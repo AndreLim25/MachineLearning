{
 "cells": [
  {
   "cell_type": "markdown",
   "id": "e7b344d6",
   "metadata": {},
   "source": [
    "# Module: NumPy Assignments"
   ]
  },
  {
   "cell_type": "markdown",
   "id": "c0b8d87a",
   "metadata": {},
   "source": [
    "## Lesson: NumPy"
   ]
  },
  {
   "cell_type": "code",
   "execution_count": 1,
   "id": "cd300711",
   "metadata": {},
   "outputs": [],
   "source": [
    "import numpy as np"
   ]
  },
  {
   "cell_type": "markdown",
   "id": "7acd8b51",
   "metadata": {},
   "source": [
    "### Assignment 1: Array Creation and Manipulation"
   ]
  },
  {
   "cell_type": "markdown",
   "id": "d3e67d1b",
   "metadata": {},
   "source": [
    "1. Create a NumPy array of shape (5, 5) filled with random integers between 1 and 20. Replace all the elements in the third column with 1.\n",
    "2. Create a NumPy array of shape (4, 4) with values from 1 to 16. Replace the diagonal elements with 0."
   ]
  },
  {
   "cell_type": "code",
   "execution_count": 5,
   "id": "6e2efccb",
   "metadata": {},
   "outputs": [
    {
     "name": "stdout",
     "output_type": "stream",
     "text": [
      "Original Array\n",
      "[[ 8 14 14  3 19]\n",
      " [ 5 14 20  8 17]\n",
      " [ 1 13  4 20 14]\n",
      " [ 3  2 13 10 20]\n",
      " [12  5  6  3 17]]\n",
      "\n",
      "Modified Array\n",
      "[[ 8 14  1  3 19]\n",
      " [ 5 14  1  8 17]\n",
      " [ 1 13  1 20 14]\n",
      " [ 3  2  1 10 20]\n",
      " [12  5  1  3 17]]\n"
     ]
    }
   ],
   "source": [
    "# import random\n",
    "\n",
    "# arr = np.array([[random.randint(1, 20) for _ in range(5)] for _ in range(5)])\n",
    "arr = np.random.randint(1, 21, size=(5, 5))\n",
    "print(\"Original Array\")\n",
    "print(arr)\n",
    "\n",
    "print()\n",
    "\n",
    "arr[:, 2] = 1\n",
    "print(\"Modified Array\")\n",
    "print(arr)"
   ]
  },
  {
   "cell_type": "code",
   "execution_count": 13,
   "id": "9cf011b3",
   "metadata": {},
   "outputs": [
    {
     "name": "stdout",
     "output_type": "stream",
     "text": [
      "Original Array\n",
      "[[ 1  2  3  4]\n",
      " [ 5  6  7  8]\n",
      " [ 9 10 11 12]\n",
      " [13 14 15 16]]\n",
      "\n",
      "Modified Array\n",
      "[[ 0  2  3  4]\n",
      " [ 5  0  7  8]\n",
      " [ 9 10  0 12]\n",
      " [13 14 15  0]]\n"
     ]
    }
   ],
   "source": [
    "# arr = np.arange(1, 17).reshape(4, 4)\n",
    "arr = np.arange(1, 17).reshape((4, 4))\n",
    "print(\"Original Array\")\n",
    "print(arr)\n",
    "\n",
    "print()\n",
    "\n",
    "# for i in range(4):\n",
    "#     arr[i, i] = 0\n",
    "np.fill_diagonal(arr, 0)\n",
    "print(\"Modified Array\")\n",
    "print(arr)"
   ]
  },
  {
   "cell_type": "markdown",
   "id": "75223ca6",
   "metadata": {},
   "source": [
    "### Assignment 2: Array Indexing and Slicing"
   ]
  },
  {
   "cell_type": "markdown",
   "id": "64855fc5",
   "metadata": {},
   "source": [
    "1. Create a NumPy array of shape (6, 6) with values from 1 to 36. Extract the sub-array consisting of the 3rd to 5th rows and 2nd to 4th columns.\n",
    "2. Create a NumPy array of shape (5, 5) with random integers. Extract the elements on the border."
   ]
  },
  {
   "cell_type": "code",
   "execution_count": 15,
   "id": "4e69bcfe",
   "metadata": {},
   "outputs": [
    {
     "name": "stdout",
     "output_type": "stream",
     "text": [
      "[[ 1  2  3  4  5  6]\n",
      " [ 7  8  9 10 11 12]\n",
      " [13 14 15 16 17 18]\n",
      " [19 20 21 22 23 24]\n",
      " [25 26 27 28 29 30]\n",
      " [31 32 33 34 35 36]]\n",
      "\n",
      "[[14 15 16]\n",
      " [20 21 22]\n",
      " [26 27 28]]\n"
     ]
    }
   ],
   "source": [
    "arr = np.arange(1, 37).reshape(6, 6)\n",
    "print(arr)\n",
    "\n",
    "print()\n",
    "\n",
    "sub_arr = arr[2:5, 1:4]\n",
    "print(sub_arr)"
   ]
  },
  {
   "cell_type": "code",
   "execution_count": 18,
   "id": "75e9e5c0",
   "metadata": {},
   "outputs": [
    {
     "name": "stdout",
     "output_type": "stream",
     "text": [
      "[[ 8 13  3  2 18]\n",
      " [ 9 12 12  6 19]\n",
      " [11  5  4 14 15]\n",
      " [ 3 15 12 10 19]\n",
      " [ 3 19 18 11 14]]\n",
      "\n",
      "[ 8 13  3  2 18  3 19 18 11 14  9 11  3 19 15 19]\n"
     ]
    }
   ],
   "source": [
    "arr = np.random.randint(1, 21, size=(5, 5))\n",
    "print(arr)\n",
    "\n",
    "print()\n",
    "\n",
    "border_elements = np.concatenate((arr[0, :], arr[-1, :], arr[1:-1, 0], arr[1:-1, -1]))\n",
    "print(border_elements)"
   ]
  },
  {
   "cell_type": "markdown",
   "id": "9327802a",
   "metadata": {},
   "source": [
    "### Assignment 3: Array Operations"
   ]
  },
  {
   "cell_type": "markdown",
   "id": "4b59cc88",
   "metadata": {},
   "source": [
    "1. Create two NumPy arrays of shape (3, 4) filled with random integers. Perform element-wise addition, subtraction, multiplication, and division.\n",
    "2. Create a NumPy array of shape (4, 4) with values from 1 to 16. Compute the row-wise and column-wise sum."
   ]
  },
  {
   "cell_type": "code",
   "execution_count": 20,
   "id": "12512954",
   "metadata": {},
   "outputs": [
    {
     "name": "stdout",
     "output_type": "stream",
     "text": [
      "[[12  2 12 12]\n",
      " [ 1  1  2  8]\n",
      " [ 3  7  4  7]]\n",
      "[[ 4  3  4  3]\n",
      " [ 4 12  5  1]\n",
      " [ 4  3  3  6]]\n",
      "\n",
      "Addition\n",
      "[[16  5 16 15]\n",
      " [ 5 13  7  9]\n",
      " [ 7 10  7 13]]\n",
      "\n",
      "Substraction\n",
      "[[  8  -1   8   9]\n",
      " [ -3 -11  -3   7]\n",
      " [ -1   4   1   1]]\n",
      "\n",
      "Multiplication\n",
      "[[48  6 48 36]\n",
      " [ 4 12 10  8]\n",
      " [12 21 12 42]]\n",
      "\n",
      "Division\n",
      "[[3.         0.66666667 3.         4.        ]\n",
      " [0.25       0.08333333 0.4        8.        ]\n",
      " [0.75       2.33333333 1.33333333 1.16666667]]\n"
     ]
    }
   ],
   "source": [
    "arr1 = np.random.randint(1, 13, size=(3, 4))\n",
    "arr2 = np.random.randint(1, 13, size=(3, 4))\n",
    "\n",
    "print(arr1)\n",
    "print(arr2)\n",
    "\n",
    "print()\n",
    "print(\"Addition\")\n",
    "print(arr1 + arr2)\n",
    "\n",
    "print()\n",
    "print(\"Substraction\")\n",
    "print(arr1 - arr2)\n",
    "\n",
    "print()\n",
    "print(\"Multiplication\")\n",
    "print(arr1 * arr2)\n",
    "\n",
    "print()\n",
    "print(\"Division\")\n",
    "print(arr1 / arr2)"
   ]
  },
  {
   "cell_type": "code",
   "execution_count": 22,
   "id": "d0d3a075",
   "metadata": {},
   "outputs": [
    {
     "name": "stdout",
     "output_type": "stream",
     "text": [
      "[[ 1  2  3  4]\n",
      " [ 5  6  7  8]\n",
      " [ 9 10 11 12]\n",
      " [13 14 15 16]]\n",
      "[10 26 42 58]\n",
      "[28 32 36 40]\n"
     ]
    }
   ],
   "source": [
    "arr = np.arange(1, 17).reshape(4, 4)\n",
    "print(arr)\n",
    "\n",
    "row_sum = np.sum(arr, axis=1)\n",
    "column_sum = np.sum(arr, axis=0)\n",
    "\n",
    "print(row_sum)\n",
    "print(column_sum)"
   ]
  },
  {
   "cell_type": "markdown",
   "id": "12d56bb9",
   "metadata": {},
   "source": [
    "### Assignment 4: Statistical Operations"
   ]
  },
  {
   "cell_type": "markdown",
   "id": "1ca73087",
   "metadata": {},
   "source": [
    "1. Create a NumPy array of shape (5, 5) filled with random integers. Compute the mean, median, standard deviation, and variance of the array.\n",
    "2. Create a NumPy array of shape (3, 3) with values from 1 to 9. Normalize the array (i.e., scale the values to have a mean of 0 and a standard deviation of 1)."
   ]
  },
  {
   "cell_type": "code",
   "execution_count": 23,
   "id": "0dc61038",
   "metadata": {},
   "outputs": [
    {
     "name": "stdout",
     "output_type": "stream",
     "text": [
      "[[ 1  4  8  7  8]\n",
      " [ 4 14 15 17  8]\n",
      " [ 3 11  4  8 10]\n",
      " [15 19 12 17 18]\n",
      " [16 18  3  4  6]]\n",
      "\n",
      "Mean\n",
      "10.0\n",
      "\n",
      "Median\n",
      "8.0\n",
      "\n",
      "Standard Deviation\n",
      "5.578530272392541\n",
      "\n",
      "Variance\n",
      "31.12\n"
     ]
    }
   ],
   "source": [
    "arr = np.random.randint(1, 21, size=(5, 5))\n",
    "print(arr)\n",
    "\n",
    "print()\n",
    "print(\"Mean\")\n",
    "print(np.mean(arr))\n",
    "\n",
    "print()\n",
    "print(\"Median\")\n",
    "print(np.median(arr))\n",
    "\n",
    "print()\n",
    "print(\"Standard Deviation\")\n",
    "print(np.std(arr))\n",
    "\n",
    "print()\n",
    "print(\"Variance\")\n",
    "print(np.var(arr))"
   ]
  },
  {
   "cell_type": "code",
   "execution_count": 24,
   "id": "29322eb4",
   "metadata": {},
   "outputs": [
    {
     "name": "stdout",
     "output_type": "stream",
     "text": [
      "[[1 2 3]\n",
      " [4 5 6]\n",
      " [7 8 9]]\n",
      "\n",
      "5.0 2.581988897471611\n",
      "\n",
      "[[-1.54919334 -1.161895   -0.77459667]\n",
      " [-0.38729833  0.          0.38729833]\n",
      " [ 0.77459667  1.161895    1.54919334]]\n",
      "0.0 1.0\n"
     ]
    }
   ],
   "source": [
    "arr = np.arange(1, 10).reshape(3, 3)\n",
    "print(arr)\n",
    "\n",
    "print()\n",
    "mean = np.mean(arr)\n",
    "std_dev = np.std(arr)\n",
    "normalized_arr = (arr - mean) / std_dev\n",
    "print(mean, std_dev)\n",
    "\n",
    "print()\n",
    "print(normalized_arr)\n",
    "print(np.mean(normalized_arr), np.std(normalized_arr))"
   ]
  },
  {
   "cell_type": "markdown",
   "id": "22522347",
   "metadata": {},
   "source": [
    "### Assignment 5: Broadcasting"
   ]
  },
  {
   "cell_type": "markdown",
   "id": "d8c2ebba",
   "metadata": {},
   "source": [
    "1. Create a NumPy array of shape (3, 3) filled with random integers. Add a 1D array of shape (3,) to each row of the 2D array using broadcasting.\n",
    "2. Create a NumPy array of shape (4, 4) filled with random integers. Subtract a 1D array of shape (4,) from each column of the 2D array using broadcasting."
   ]
  },
  {
   "cell_type": "code",
   "execution_count": 28,
   "id": "533c8910",
   "metadata": {},
   "outputs": [
    {
     "name": "stdout",
     "output_type": "stream",
     "text": [
      "[[3 4 6]\n",
      " [8 5 5]\n",
      " [7 5 4]]\n",
      "[1 2 3]\n",
      "[[4 6 9]\n",
      " [9 7 8]\n",
      " [8 7 7]]\n"
     ]
    }
   ],
   "source": [
    "arr = np.random.randint(1, 10, size=(3, 3))\n",
    "print(arr)\n",
    "\n",
    "arr_to_add = np.array([1, 2, 3])\n",
    "print(arr_to_add)\n",
    "\n",
    "print(arr + arr_to_add)"
   ]
  },
  {
   "cell_type": "code",
   "execution_count": 30,
   "id": "c10ea3e3",
   "metadata": {},
   "outputs": [
    {
     "name": "stdout",
     "output_type": "stream",
     "text": [
      "[[ 9  8  5 12]\n",
      " [10 15  8 16]\n",
      " [ 6 10 15 12]\n",
      " [ 8  9  2 11]]\n",
      "[1 2 3 4]\n",
      "[[ 8  7  4 11]\n",
      " [ 8 13  6 14]\n",
      " [ 3  7 12  9]\n",
      " [ 4  5 -2  7]]\n"
     ]
    }
   ],
   "source": [
    "arr = np.random.randint(1, 17, size=(4, 4))\n",
    "print(arr)\n",
    "\n",
    "arr_to_substract = np.array([1, 2, 3, 4])\n",
    "print(arr_to_substract)\n",
    "\n",
    "print(arr - arr_to_substract[:, np.newaxis])"
   ]
  },
  {
   "cell_type": "markdown",
   "id": "5561b2df",
   "metadata": {},
   "source": [
    "### Assignment 6: Linear Algebra"
   ]
  },
  {
   "cell_type": "markdown",
   "id": "eaf4ae78",
   "metadata": {},
   "source": [
    "1. Create a NumPy array of shape (3, 3) representing a matrix. Compute its determinant, inverse, and eigenvalues.\n",
    "2. Create two NumPy arrays of shape (2, 3) and (3, 2). Perform matrix multiplication on these arrays."
   ]
  },
  {
   "cell_type": "code",
   "execution_count": 31,
   "id": "b1aa14c5",
   "metadata": {},
   "outputs": [
    {
     "name": "stdout",
     "output_type": "stream",
     "text": [
      "[[6 6 7]\n",
      " [5 1 2]\n",
      " [9 7 1]]\n",
      "Determinant: 182.0000000000001\n",
      "Inverse:\n",
      "[[-0.07142857  0.23626374  0.02747253]\n",
      " [ 0.07142857 -0.31318681  0.12637363]\n",
      " [ 0.14285714  0.06593407 -0.13186813]]\n",
      "Eigenvalues: [15.04958622 -4.09995461 -2.94963162]\n"
     ]
    }
   ],
   "source": [
    "matrix = np.random.randint(1, 10, size=(3, 3))\n",
    "print(matrix)\n",
    "\n",
    "determinant = np.linalg.det(matrix)\n",
    "print(\"Determinant:\", determinant)\n",
    "\n",
    "inverse = np.linalg.inv(matrix)\n",
    "print(\"Inverse:\")\n",
    "print(inverse)\n",
    "\n",
    "eigenvalues = np.linalg.eigvals(matrix)\n",
    "print(\"Eigenvalues:\", eigenvalues)"
   ]
  },
  {
   "cell_type": "code",
   "execution_count": 33,
   "id": "289a26a0",
   "metadata": {},
   "outputs": [
    {
     "name": "stdout",
     "output_type": "stream",
     "text": [
      "[[4 1 3]\n",
      " [5 3 1]]\n",
      "[[4 4]\n",
      " [1 4]\n",
      " [1 4]]\n",
      "Result\n",
      "[[20 32]\n",
      " [24 36]]\n"
     ]
    }
   ],
   "source": [
    "matrix_1 = np.random.randint(1, 6, size=(2, 3))\n",
    "matrix_2 = np.random.randint(1, 6, size=(3, 2))\n",
    "\n",
    "print(matrix_1)\n",
    "print(matrix_2)\n",
    "\n",
    "print(\"Result\")\n",
    "print(np.dot(matrix_1, matrix_2))"
   ]
  },
  {
   "cell_type": "markdown",
   "id": "aa8d2dc6",
   "metadata": {},
   "source": [
    "### Assignment 7: Advanced Array Manipulation"
   ]
  },
  {
   "cell_type": "markdown",
   "id": "88cffc41",
   "metadata": {},
   "source": [
    "1. Create a NumPy array of shape (3, 3) with values from 1 to 9. Reshape the array to shape (1, 9) and then to shape (9, 1).\n",
    "2. Create a NumPy array of shape (5, 5) filled with random integers. Flatten the array and then reshape it back to (5, 5)."
   ]
  },
  {
   "cell_type": "code",
   "execution_count": 34,
   "id": "c03f10bc",
   "metadata": {},
   "outputs": [
    {
     "name": "stdout",
     "output_type": "stream",
     "text": [
      "[[1 2 3]\n",
      " [4 5 6]\n",
      " [7 8 9]]\n",
      "[[1 2 3 4 5 6 7 8 9]]\n",
      "[[1]\n",
      " [2]\n",
      " [3]\n",
      " [4]\n",
      " [5]\n",
      " [6]\n",
      " [7]\n",
      " [8]\n",
      " [9]]\n"
     ]
    }
   ],
   "source": [
    "arr = np.arange(1, 10).reshape(3, 3)\n",
    "print(arr)\n",
    "\n",
    "arr = arr.reshape(1, 9)\n",
    "print(arr)\n",
    "\n",
    "arr = arr.reshape(9, 1)\n",
    "print(arr)"
   ]
  },
  {
   "cell_type": "code",
   "execution_count": 35,
   "id": "d2dc18ec",
   "metadata": {},
   "outputs": [
    {
     "name": "stdout",
     "output_type": "stream",
     "text": [
      "[[2 7 7 7 2]\n",
      " [9 5 2 7 1]\n",
      " [6 1 2 5 9]\n",
      " [6 9 2 2 8]\n",
      " [4 1 7 9 6]]\n",
      "[2 7 7 7 2 9 5 2 7 1 6 1 2 5 9 6 9 2 2 8 4 1 7 9 6]\n",
      "[[2 7 7 7 2]\n",
      " [9 5 2 7 1]\n",
      " [6 1 2 5 9]\n",
      " [6 9 2 2 8]\n",
      " [4 1 7 9 6]]\n"
     ]
    }
   ],
   "source": [
    "arr = np.random.randint(1, 10, size=(5, 5))\n",
    "print(arr)\n",
    "\n",
    "arr = arr.flatten()\n",
    "print(arr)\n",
    "\n",
    "arr = arr.reshape(5, 5)\n",
    "print(arr)"
   ]
  },
  {
   "cell_type": "markdown",
   "id": "e083502c",
   "metadata": {},
   "source": [
    "### Assignment 8: Fancy Indexing and Boolean Indexing"
   ]
  },
  {
   "cell_type": "markdown",
   "id": "14d76b65",
   "metadata": {},
   "source": [
    "1. Create a NumPy array of shape (5, 5) filled with random integers. Use fancy indexing to extract the elements at the corners of the array.\n",
    "2. Create a NumPy array of shape (4, 4) filled with random integers. Use boolean indexing to set all elements greater than 10 to 10."
   ]
  },
  {
   "cell_type": "code",
   "execution_count": 36,
   "id": "5acdf794",
   "metadata": {},
   "outputs": [
    {
     "name": "stdout",
     "output_type": "stream",
     "text": [
      "[[2 2 2 8 7]\n",
      " [7 5 5 6 9]\n",
      " [6 8 8 8 7]\n",
      " [5 1 6 4 4]\n",
      " [5 1 1 7 6]]\n",
      "\n",
      "[2 7 5 6]\n"
     ]
    }
   ],
   "source": [
    "arr = np.random.randint(1, 10, size=(5, 5))\n",
    "print(arr)\n",
    "\n",
    "print()\n",
    "corners = arr[[0, 0, -1, -1], [0, -1, 0, -1]]\n",
    "print(corners)"
   ]
  },
  {
   "cell_type": "code",
   "execution_count": 38,
   "id": "2c401ae7",
   "metadata": {},
   "outputs": [
    {
     "name": "stdout",
     "output_type": "stream",
     "text": [
      "[[16  2 16 20]\n",
      " [15  6 10 11]\n",
      " [12 10 14 14]\n",
      " [ 1  6 19  3]]\n",
      "\n",
      "[[10  2 10 10]\n",
      " [10  6 10 10]\n",
      " [10 10 10 10]\n",
      " [ 1  6 10  3]]\n"
     ]
    }
   ],
   "source": [
    "arr = np.random.randint(1, 21, size=(4, 4))\n",
    "print(arr)\n",
    "\n",
    "print()\n",
    "arr[arr > 10] = 10\n",
    "print(arr)"
   ]
  },
  {
   "cell_type": "markdown",
   "id": "b757c8f5",
   "metadata": {},
   "source": [
    "### Assignment 9: Structured Arrays"
   ]
  },
  {
   "cell_type": "markdown",
   "id": "596bee02",
   "metadata": {},
   "source": [
    "1. Create a structured array with fields 'name' (string), 'age' (integer), and 'weight' (float). Add some data and sort the array by age.\n",
    "2. Create a structured array with fields 'x' and 'y' (both integers). Add some data and compute the Euclidean distance between each pair of points."
   ]
  },
  {
   "cell_type": "code",
   "execution_count": 54,
   "id": "42f8e6b1",
   "metadata": {},
   "outputs": [
    {
     "name": "stdout",
     "output_type": "stream",
     "text": [
      "[('Andresuper', 19, 54. ) ('Alya', 20, 48.3) ('Endriano', 19, 70. )]\n",
      "\n",
      "[('Alya', 20, 48.3) ('Endriano', 19, 70. ) ('Andresuper', 19, 54. )]\n"
     ]
    }
   ],
   "source": [
    "data_types = [(\"name\", 'U10'), (\"age\", \"i4\"), (\"weight\", \"f4\")]\n",
    "arr = np.array([(\"Andresuperlong\", 19, 54), (\"Alya\", 20, 48.3), (\"Endriano\", 19, 70)], dtype=data_types)\n",
    "print(arr)\n",
    "\n",
    "print()\n",
    "# sorted_data = np.sort(arr, order=\"age\")\n",
    "sorted_data = np.sort(arr, order=\"age\")[::-1]\n",
    "print(sorted_data)"
   ]
  },
  {
   "cell_type": "code",
   "execution_count": 49,
   "id": "3b9b87cd",
   "metadata": {},
   "outputs": [
    {
     "name": "stdout",
     "output_type": "stream",
     "text": [
      "[( 4,  8) (10, 16) (20, 30)]\n",
      "\n",
      "[ 4 10 20]\n",
      "[[ 4 10 20]]\n",
      "[[ 0.         10.         27.20294102]\n",
      " [10.          0.         17.20465053]\n",
      " [27.20294102 17.20465053  0.        ]]\n"
     ]
    }
   ],
   "source": [
    "data_types = [(\"x\", \"i4\"), (\"y\", \"i4\")]\n",
    "arr = np.array([(4, 8), (10, 16), (20, 30)], dtype=data_types)\n",
    "print(arr)\n",
    "\n",
    "print()\n",
    "print(arr[\"x\"])\n",
    "# print(arr[\"x\"][:, np.newaxis])\n",
    "print(arr[\"x\"][np.newaxis, :])\n",
    "distances = np.sqrt((arr[\"x\"][:, np.newaxis] - arr[\"x\"]) ** 2 + (arr[\"y\"][:, np.newaxis] - arr[\"y\"]) ** 2)\n",
    "print(distances)"
   ]
  },
  {
   "cell_type": "markdown",
   "id": "a5818d80",
   "metadata": {},
   "source": [
    "### Assignment 10: Masked Arrays"
   ]
  },
  {
   "cell_type": "markdown",
   "id": "cd557dbe",
   "metadata": {},
   "source": [
    "1. Create a masked array of shape (4, 4) with random integers and mask the elements greater than 10. Compute the sum of the unmasked elements.\n",
    "2. Create a masked array of shape (3, 3) with random integers and mask the diagonal elements. Replace the masked elements with the mean of the unmasked elements."
   ]
  },
  {
   "cell_type": "code",
   "execution_count": 50,
   "id": "8250a5da",
   "metadata": {},
   "outputs": [
    {
     "name": "stdout",
     "output_type": "stream",
     "text": [
      "[[17  7 14  8]\n",
      " [16 10  6 20]\n",
      " [ 1 10  4  2]\n",
      " [13 20  7 17]]\n",
      "[[-- 7 -- 8]\n",
      " [-- 10 6 --]\n",
      " [1 10 4 2]\n",
      " [-- -- 7 --]]\n",
      "55\n"
     ]
    }
   ],
   "source": [
    "import numpy.ma as ma\n",
    "\n",
    "arr = np.random.randint(1, 21, size=(4, 4))\n",
    "masked_arr = ma.masked_greater(arr, 10)\n",
    "print(arr)\n",
    "print(masked_arr)\n",
    "\n",
    "sum_unmasked = masked_arr.sum()\n",
    "print(sum_unmasked)"
   ]
  },
  {
   "cell_type": "code",
   "execution_count": 53,
   "id": "a745d156",
   "metadata": {},
   "outputs": [
    {
     "name": "stdout",
     "output_type": "stream",
     "text": [
      "[[2 2 1]\n",
      " [6 2 3]\n",
      " [6 7 5]]\n",
      "[[-- 2 1]\n",
      " [6 -- 3]\n",
      " [6 7 --]]\n",
      "\n",
      "<class 'numpy.ma.core.MaskedConstant'>\n",
      "[[4 2 1]\n",
      " [6 4 3]\n",
      " [6 7 4]]\n"
     ]
    }
   ],
   "source": [
    "arr = np.random.randint(1, 10, size=(3, 3))\n",
    "masked_arr = ma.masked_array(arr, mask=np.eye(3, dtype=bool))\n",
    "print(arr)\n",
    "print(masked_arr)\n",
    "\n",
    "print()\n",
    "print(type(masked_arr[0][0]))\n",
    "mean_unmasked = masked_arr.mean()\n",
    "masked_arr = masked_arr.filled(mean_unmasked)\n",
    "print(masked_arr)"
   ]
  }
 ],
 "metadata": {
  "kernelspec": {
   "display_name": "Python 3",
   "language": "python",
   "name": "python3"
  },
  "language_info": {
   "codemirror_mode": {
    "name": "ipython",
    "version": 3
   },
   "file_extension": ".py",
   "mimetype": "text/x-python",
   "name": "python",
   "nbconvert_exporter": "python",
   "pygments_lexer": "ipython3",
   "version": "3.12.0"
  }
 },
 "nbformat": 4,
 "nbformat_minor": 5
}
