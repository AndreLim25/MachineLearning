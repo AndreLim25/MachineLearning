{
 "cells": [
  {
   "cell_type": "markdown",
   "id": "e73a18f4",
   "metadata": {},
   "source": [
    "# Module: Pandas Assignments"
   ]
  },
  {
   "cell_type": "markdown",
   "id": "093f7820",
   "metadata": {},
   "source": [
    "## Lesson: Pandas"
   ]
  },
  {
   "cell_type": "code",
   "execution_count": 3,
   "id": "8fb98fa4",
   "metadata": {},
   "outputs": [],
   "source": [
    "import pandas as pd\n",
    "import numpy as np"
   ]
  },
  {
   "cell_type": "markdown",
   "id": "2b216887",
   "metadata": {},
   "source": [
    "### Assignment 1: DataFrame Creation and Indexing"
   ]
  },
  {
   "cell_type": "markdown",
   "id": "eb2ae08c",
   "metadata": {},
   "source": [
    "1. Create a Pandas DataFrame with 4 columns and 6 rows filled with random integers. Set the index to be the first column.\n",
    "2. Create a Pandas DataFrame with columns 'A', 'B', 'C' and index 'X', 'Y', 'Z'. Fill the DataFrame with random integers and access the element at row 'Y' and column 'B'."
   ]
  },
  {
   "cell_type": "code",
   "execution_count": 4,
   "id": "514af952",
   "metadata": {},
   "outputs": [
    {
     "name": "stdout",
     "output_type": "stream",
     "text": [
      "Original DataFrame:\n",
      "    A   B   C   D\n",
      "0  52  65   8  41\n",
      "1  69  90  16  79\n",
      "2   7   8  12  46\n",
      "3  97  91  45  24\n",
      "4  70  65   6  67\n",
      "5  76  81  24  88\n",
      "DataFrame with new index:\n",
      "     B   C   D\n",
      "A             \n",
      "52  65   8  41\n",
      "69  90  16  79\n",
      "7    8  12  46\n",
      "97  91  45  24\n",
      "70  65   6  67\n",
      "76  81  24  88\n"
     ]
    }
   ],
   "source": [
    "df = pd.DataFrame(np.random.randint(1, 101, size=(6, 4)), columns=[\"A\", \"B\", \"C\", \"D\"])\n",
    "print(\"Original DataFrame:\")\n",
    "print(df)\n",
    "\n",
    "df.set_index(\"A\", inplace=True)\n",
    "print(\"DataFrame with new index:\")\n",
    "print(df)"
   ]
  },
  {
   "cell_type": "code",
   "execution_count": 6,
   "id": "72b5fce5",
   "metadata": {},
   "outputs": [
    {
     "name": "stdout",
     "output_type": "stream",
     "text": [
      "Original DataFrame:\n",
      "    A   B   C\n",
      "X  40  19  27\n",
      "Y  17  85  85\n",
      "Z  62  73  58\n",
      "Element at row 'Y' and column 'B': 85\n",
      "Element at row 'Y' and column 'B': 85\n"
     ]
    }
   ],
   "source": [
    "df = pd.DataFrame(np.random.randint(1, 101, size=(3, 3)), columns=[\"A\", \"B\", \"C\"], index=[\"X\", \"Y\", \"Z\"])\n",
    "print(\"Original DataFrame:\")\n",
    "print(df)\n",
    "\n",
    "element = df.at[\"Y\", \"B\"]\n",
    "print(\"Element at row 'Y' and column 'B':\", element)\n",
    "\n",
    "element = df.iat[1, 1]\n",
    "print(\"Element at row 'Y' and column 'B':\", element)"
   ]
  },
  {
   "cell_type": "markdown",
   "id": "79371aa9",
   "metadata": {},
   "source": [
    "### Assignment 2: DataFrame Operations"
   ]
  },
  {
   "cell_type": "markdown",
   "id": "6d26d15f",
   "metadata": {},
   "source": [
    "1. Create a Pandas DataFrame with 3 columns and 5 rows filled with random integers. Add a new column that is the product of the first two columns.\n",
    "2. Create a Pandas DataFrame with 3 columns and 4 rows filled with random integers. Compute the row-wise and column-wise sum."
   ]
  },
  {
   "cell_type": "code",
   "execution_count": 7,
   "id": "a202cdf4",
   "metadata": {},
   "outputs": [
    {
     "name": "stdout",
     "output_type": "stream",
     "text": [
      "Original DataFrame:\n",
      "    A   B   C\n",
      "0   8  40  20\n",
      "1  86  42  75\n",
      "2  27  49  61\n",
      "3  25   3  66\n",
      "4  27  50  58\n",
      "DataFrame with new column:\n",
      "    A   B   C  Product\n",
      "0   8  40  20      320\n",
      "1  86  42  75     3612\n",
      "2  27  49  61     1323\n",
      "3  25   3  66       75\n",
      "4  27  50  58     1350\n"
     ]
    }
   ],
   "source": [
    "df = pd.DataFrame(np.random.randint(1, 101, size=(5, 3)), columns=[\"A\", \"B\", \"C\"])\n",
    "print(\"Original DataFrame:\")\n",
    "print(df)\n",
    "\n",
    "df[\"Product\"] = df[\"A\"] * df[\"B\"]\n",
    "print(\"DataFrame with new column:\")\n",
    "print(df)"
   ]
  },
  {
   "cell_type": "code",
   "execution_count": 8,
   "id": "19601421",
   "metadata": {},
   "outputs": [
    {
     "name": "stdout",
     "output_type": "stream",
     "text": [
      "Original DataFrame:\n",
      "    A   B   C\n",
      "0  62  99  21\n",
      "1  91  89  37\n",
      "2  11  16  31\n",
      "3  99  85  84\n",
      "Row-wise sum:\n",
      "0    182\n",
      "1    217\n",
      "2     58\n",
      "3    268\n",
      "dtype: int64\n",
      "Column-wise sum:\n",
      "A    263\n",
      "B    289\n",
      "C    173\n",
      "dtype: int64\n"
     ]
    }
   ],
   "source": [
    "df = pd.DataFrame(np.random.randint(1, 101, size=(4, 3)), columns=[\"A\", \"B\", \"C\"])\n",
    "print(\"Original DataFrame:\")\n",
    "print(df)\n",
    "\n",
    "row_sum = df.sum(axis=1)\n",
    "column_sum = df.sum(axis=0)\n",
    "print(\"Row-wise sum:\")\n",
    "print(row_sum)\n",
    "print(\"Column-wise sum:\")\n",
    "print(column_sum)"
   ]
  },
  {
   "cell_type": "markdown",
   "id": "7b518c52",
   "metadata": {},
   "source": [
    "### Assignment 3: Data Cleaning"
   ]
  },
  {
   "cell_type": "markdown",
   "id": "de42cf41",
   "metadata": {},
   "source": [
    "1. Create a Pandas DataFrame with 3 columns and 5 rows filled with random integers. Introduce some NaN values. Fill the NaN values with the mean of the respective columns.\n",
    "2. Create a Pandas DataFrame with 4 columns and 6 rows filled with random integers. Introduce some NaN values. Drop the rows with any NaN values."
   ]
  },
  {
   "cell_type": "code",
   "execution_count": 9,
   "id": "3a23ef16",
   "metadata": {},
   "outputs": [
    {
     "name": "stdout",
     "output_type": "stream",
     "text": [
      "Original DataFrame:\n",
      "    A    B   C\n",
      "0  42  100  24\n",
      "1  70    7   2\n",
      "2  50   43  35\n",
      "3   4    7  49\n",
      "4  84    5  53\n",
      "DataFrame with NaN values:\n",
      "      A     B     C\n",
      "0  42.0   NaN  24.0\n",
      "1  70.0   7.0   2.0\n",
      "2  50.0  43.0   NaN\n",
      "3   4.0   7.0  49.0\n",
      "4   NaN   5.0  53.0\n",
      "DataFrame with NaN values filled:\n",
      "      A     B     C\n",
      "0  42.0  15.5  24.0\n",
      "1  70.0   7.0   2.0\n",
      "2  50.0  43.0  32.0\n",
      "3   4.0   7.0  49.0\n",
      "4  41.5   5.0  53.0\n"
     ]
    }
   ],
   "source": [
    "df = pd.DataFrame(np.random.randint(1, 101, size=(5, 3)), columns=[\"A\", \"B\", \"C\"])\n",
    "print(\"Original DataFrame:\")\n",
    "print(df)\n",
    "\n",
    "df.iloc[0, 1] = np.nan\n",
    "df.iloc[2, 2] = np.nan\n",
    "df.iloc[4, 0] = np.nan\n",
    "print(\"DataFrame with NaN values:\")\n",
    "print(df)\n",
    "\n",
    "df.fillna(df.mean(), inplace=True)\n",
    "print(\"DataFrame with NaN values filled:\")\n",
    "print(df)"
   ]
  },
  {
   "cell_type": "code",
   "execution_count": 11,
   "id": "087fcb5a",
   "metadata": {},
   "outputs": [
    {
     "name": "stdout",
     "output_type": "stream",
     "text": [
      "Original DataFrame:\n",
      "    A   B   C   D\n",
      "0  35  33  19  39\n",
      "1  69  90   8  47\n",
      "2  35  44  50  67\n",
      "3  10  44  83  32\n",
      "4  78  29  43  97\n",
      "5   2  99   3  26\n",
      "DataFrame with NaN values:\n",
      "      A     B     C   D\n",
      "0  35.0  33.0  19.0  39\n",
      "1  69.0  90.0   NaN  47\n",
      "2  35.0  44.0  50.0  67\n",
      "3   NaN  44.0  83.0  32\n",
      "4  78.0  29.0  43.0  97\n",
      "5   2.0   NaN   3.0  26\n",
      "DataFrame with NaN values dropped:\n",
      "      A     B     C   D\n",
      "0  35.0  33.0  19.0  39\n",
      "2  35.0  44.0  50.0  67\n",
      "4  78.0  29.0  43.0  97\n"
     ]
    }
   ],
   "source": [
    "df = pd.DataFrame(np.random.randint(1, 101, size=(6, 4)), columns=[\"A\", \"B\", \"C\", \"D\"])\n",
    "print(\"Original DataFrame:\")\n",
    "print(df)\n",
    "\n",
    "df.iloc[1, 2] = np.nan\n",
    "df.iloc[3, 0] = np.nan\n",
    "df.iloc[5, 1] = np.nan\n",
    "print(\"DataFrame with NaN values:\")\n",
    "print(df)\n",
    "\n",
    "df.dropna(inplace=True)\n",
    "print(\"DataFrame with NaN values dropped:\")\n",
    "print(df)"
   ]
  },
  {
   "cell_type": "markdown",
   "id": "d90cff0b",
   "metadata": {},
   "source": [
    "### Assignment 4: Data Aggregation"
   ]
  },
  {
   "cell_type": "markdown",
   "id": "033c6c27",
   "metadata": {},
   "source": [
    "1. Create a Pandas DataFrame with 2 columns: 'Category' and 'Value'. Fill the 'Category' column with random categories ('A', 'B', 'C') and the 'Value' column with random integers. Group the DataFrame by 'Category' and compute the sum and mean of 'Value' for each category.\n",
    "2. Create a Pandas DataFrame with 3 columns: 'Product', 'Category', and 'Sales'. Fill the DataFrame with random data. Group the DataFrame by 'Category' and compute the total sales for each category."
   ]
  },
  {
   "cell_type": "code",
   "execution_count": 12,
   "id": "4f3fcdfa",
   "metadata": {},
   "outputs": [
    {
     "name": "stdout",
     "output_type": "stream",
     "text": [
      "Original DataFrame:\n",
      "  Category  Value\n",
      "0        C     24\n",
      "1        C     54\n",
      "2        B     40\n",
      "3        C     68\n",
      "4        C     10\n",
      "5        B     61\n",
      "6        C     18\n",
      "7        A      7\n",
      "8        B     12\n",
      "9        C     94\n",
      "Grouped DataFrame:\n",
      "          sum       mean\n",
      "Category                \n",
      "A           7   7.000000\n",
      "B         113  37.666667\n",
      "C         268  44.666667\n"
     ]
    }
   ],
   "source": [
    "data = {\n",
    "    \"Category\": np.random.choice([\"A\", \"B\", \"C\"], size=10),\n",
    "    \"Value\": np.random.randint(1, 101, size=10)\n",
    "}\n",
    "df = pd.DataFrame(data)\n",
    "print(\"Original DataFrame:\")\n",
    "print(df)\n",
    "\n",
    "grouped = df.groupby(\"Category\")[\"Value\"].agg([\"sum\", \"mean\"])\n",
    "print(\"Grouped DataFrame:\")\n",
    "print(grouped)"
   ]
  },
  {
   "cell_type": "code",
   "execution_count": 13,
   "id": "9c8f9425",
   "metadata": {},
   "outputs": [
    {
     "name": "stdout",
     "output_type": "stream",
     "text": [
      "Original DataFrame:\n",
      "  Product Category  Sales\n",
      "0       Y        A     28\n",
      "1       X        B     43\n",
      "2       X        C     87\n",
      "3       X        B     54\n",
      "4       Y        C     29\n",
      "5       X        B     16\n",
      "6       X        C     18\n",
      "7       X        A     95\n",
      "8       Y        C     66\n",
      "9       Y        B      3\n",
      "Category\n",
      "A    123\n",
      "B    116\n",
      "C    200\n",
      "Name: Sales, dtype: int32\n"
     ]
    }
   ],
   "source": [
    "data = {\n",
    "    \"Product\": np.random.choice([\"X\", \"Y\", \"X\"], size=10),\n",
    "    \"Category\": np.random.choice([\"A\", \"B\", \"C\"], size=10),\n",
    "    \"Sales\": np.random.randint(1, 101, size=10)\n",
    "}\n",
    "df = pd.DataFrame(data)\n",
    "print(\"Original DataFrame:\")\n",
    "print(df)\n",
    "\n",
    "grouped = df.groupby(\"Category\")[\"Sales\"].sum()\n",
    "print(grouped)"
   ]
  },
  {
   "cell_type": "markdown",
   "id": "0b04aa19",
   "metadata": {},
   "source": [
    "### Assignment 5: Merging DataFrames"
   ]
  },
  {
   "cell_type": "markdown",
   "id": "384c5460",
   "metadata": {},
   "source": [
    "1. Create two Pandas DataFrames with a common column. Merge the DataFrames using the common column.\n",
    "2. Create two Pandas DataFrames with different columns. Concatenate the DataFrames along the rows and along the columns."
   ]
  },
  {
   "cell_type": "code",
   "execution_count": 15,
   "id": "087dcba0",
   "metadata": {},
   "outputs": [
    {
     "name": "stdout",
     "output_type": "stream",
     "text": [
      "DataFrame 1:\n",
      "  Key  Value1\n",
      "0   A      62\n",
      "1   B      90\n",
      "2   C      11\n",
      "3   D       3\n",
      "DataFrame 2:\n",
      "  Key  Value2\n",
      "0   A      48\n",
      "1   B      80\n",
      "2   C      93\n",
      "3   E      92\n",
      "Merged DataFrame:\n",
      "  Key  Value1  Value2\n",
      "0   A      62      48\n",
      "1   B      90      80\n",
      "2   C      11      93\n"
     ]
    }
   ],
   "source": [
    "df1 = pd.DataFrame({'Key': ['A', 'B', 'C', 'D'], 'Value1': np.random.randint(1, 100, size=4)})\n",
    "df2 = pd.DataFrame({'Key': ['A', 'B', 'C', 'E'], 'Value2': np.random.randint(1, 100, size=4)})\n",
    "print(\"DataFrame 1:\")\n",
    "print(df1)\n",
    "print(\"DataFrame 2:\")\n",
    "print(df2)\n",
    "\n",
    "merged = pd.merge(df1, df2, on=\"Key\")\n",
    "print(\"Merged DataFrame:\")\n",
    "print(merged)"
   ]
  },
  {
   "cell_type": "code",
   "execution_count": 17,
   "id": "3ff10b06",
   "metadata": {},
   "outputs": [
    {
     "name": "stdout",
     "output_type": "stream",
     "text": [
      "DataFrame 1:\n",
      "    A   B\n",
      "0  72  94\n",
      "1  41  41\n",
      "2  42  60\n",
      "DataFrame 2:\n",
      "    C   D\n",
      "0   5  84\n",
      "1  87  79\n",
      "2   7  20\n",
      "3  16   4\n",
      "Concatenated DataFrame (rows):\n",
      "      A     B     C     D\n",
      "0  72.0  94.0   NaN   NaN\n",
      "1  41.0  41.0   NaN   NaN\n",
      "2  42.0  60.0   NaN   NaN\n",
      "0   NaN   NaN   5.0  84.0\n",
      "1   NaN   NaN  87.0  79.0\n",
      "2   NaN   NaN   7.0  20.0\n",
      "3   NaN   NaN  16.0   4.0\n",
      "Concatenated DataFrame (columns):\n",
      "      A     B   C   D\n",
      "0  72.0  94.0   5  84\n",
      "1  41.0  41.0  87  79\n",
      "2  42.0  60.0   7  20\n",
      "3   NaN   NaN  16   4\n"
     ]
    }
   ],
   "source": [
    "df1 = pd.DataFrame({'A': np.random.randint(1, 100, size=3), 'B': np.random.randint(1, 100, size=3)})\n",
    "df2 = pd.DataFrame({'C': np.random.randint(1, 100, size=4), 'D': np.random.randint(1, 100, size=4)})\n",
    "print(\"DataFrame 1:\")\n",
    "print(df1)\n",
    "print(\"DataFrame 2:\")\n",
    "print(df2)\n",
    "\n",
    "concat_rows = pd.concat([df1, df2], axis=0)\n",
    "print(\"Concatenated DataFrame (rows):\")\n",
    "print(concat_rows)\n",
    "\n",
    "concat_columns = pd.concat([df1, df2], axis=1)\n",
    "print(\"Concatenated DataFrame (columns):\")\n",
    "print(concat_columns)"
   ]
  },
  {
   "cell_type": "markdown",
   "id": "97899808",
   "metadata": {},
   "source": [
    "### Assignment 6: Time Series Analysis"
   ]
  },
  {
   "cell_type": "markdown",
   "id": "82da279f",
   "metadata": {},
   "source": [
    "1. Create a Pandas DataFrame with a datetime index and one column filled with random integers. Resample the DataFrame to compute the monthly mean of the values.\n",
    "2. Create a Pandas DataFrame with a datetime index ranging from '2021-01-01' to '2021-12-31' and one column filled with random integers. Compute the rolling mean with a window of 7 days."
   ]
  },
  {
   "cell_type": "code",
   "execution_count": 18,
   "id": "09a05626",
   "metadata": {},
   "outputs": [
    {
     "name": "stdout",
     "output_type": "stream",
     "text": [
      "Original DataFrame:\n",
      "            data\n",
      "date            \n",
      "2024-01-01    24\n",
      "2024-01-02    85\n",
      "2024-01-03     8\n",
      "2024-01-04    48\n",
      "2024-01-05    90\n",
      "...          ...\n",
      "2024-12-27    29\n",
      "2024-12-28     6\n",
      "2024-12-29     7\n",
      "2024-12-30    36\n",
      "2024-12-31     8\n",
      "\n",
      "[366 rows x 1 columns]\n",
      "Monthly mean DataFrame:\n",
      "                 data\n",
      "date                 \n",
      "2024-01-31  39.612903\n",
      "2024-02-29  47.724138\n",
      "2024-03-31  53.000000\n",
      "2024-04-30  58.266667\n",
      "2024-05-31  55.870968\n",
      "2024-06-30  52.733333\n",
      "2024-07-31  45.161290\n",
      "2024-08-31  51.741935\n",
      "2024-09-30  42.133333\n",
      "2024-10-31  52.387097\n",
      "2024-11-30  55.366667\n",
      "2024-12-31  37.677419\n"
     ]
    },
    {
     "name": "stderr",
     "output_type": "stream",
     "text": [
      "C:\\Users\\LENOVO\\AppData\\Local\\Temp\\ipykernel_13660\\1828066544.py:8: FutureWarning: 'M' is deprecated and will be removed in a future version, please use 'ME' instead.\n",
      "  monthly_mean = df.resample(\"M\").mean()\n"
     ]
    }
   ],
   "source": [
    "date_rng = pd.date_range(start=\"2024-01-01\", end=\"2024-12-31\", freq=\"D\")\n",
    "df = pd.DataFrame(date_rng, columns=[\"date\"])\n",
    "df[\"data\"] = np.random.randint(1, 101, size=len(date_rng))\n",
    "df.set_index(\"date\", inplace=True)\n",
    "print(\"Original DataFrame:\")\n",
    "print(df)\n",
    "\n",
    "monthly_mean = df.resample(\"M\").mean()\n",
    "print(\"Monthly mean DataFrame:\")\n",
    "print(monthly_mean)"
   ]
  },
  {
   "cell_type": "code",
   "execution_count": 20,
   "id": "02ddcc1d",
   "metadata": {},
   "outputs": [
    {
     "name": "stdout",
     "output_type": "stream",
     "text": [
      "Original DataFrame:\n",
      "            data\n",
      "date            \n",
      "2021-01-01    82\n",
      "2021-01-02    67\n",
      "2021-01-03    90\n",
      "2021-01-04    92\n",
      "2021-01-05    67\n",
      "...          ...\n",
      "2021-12-27    60\n",
      "2021-12-28    29\n",
      "2021-12-29    33\n",
      "2021-12-30    83\n",
      "2021-12-31    67\n",
      "\n",
      "[365 rows x 1 columns]\n",
      "Rolling mean DataFrame:\n",
      "                 data\n",
      "date                 \n",
      "2021-01-01        NaN\n",
      "2021-01-02        NaN\n",
      "2021-01-03        NaN\n",
      "2021-01-04        NaN\n",
      "2021-01-05        NaN\n",
      "...               ...\n",
      "2021-12-27  54.857143\n",
      "2021-12-28  45.285714\n",
      "2021-12-29  38.857143\n",
      "2021-12-30  40.142857\n",
      "2021-12-31  46.285714\n",
      "\n",
      "[365 rows x 1 columns]\n"
     ]
    }
   ],
   "source": [
    "date_rng = pd.date_range(start=\"2021-01-01\", end=\"2021-12-31\", freq=\"D\")\n",
    "df = pd.DataFrame(date_rng, columns=[\"date\"])\n",
    "df[\"data\"] = np.random.randint(1, 101, size=len(date_rng))\n",
    "df.set_index(\"date\", inplace=True)\n",
    "print(\"Original DataFrame:\")\n",
    "print(df)\n",
    "\n",
    "rolling_mean = df.rolling(window=7).mean()\n",
    "print(\"Rolling mean DataFrame:\")\n",
    "print(rolling_mean)"
   ]
  },
  {
   "cell_type": "markdown",
   "id": "43b5b963",
   "metadata": {},
   "source": [
    "### Assignment 7: MultiIndex DataFrame"
   ]
  },
  {
   "cell_type": "markdown",
   "id": "052c0e5e",
   "metadata": {},
   "source": [
    "1. Create a Pandas DataFrame with a MultiIndex (hierarchical index). Perform some basic indexing and slicing operations on the MultiIndex DataFrame.\n",
    "2. Create a Pandas DataFrame with MultiIndex consisting of 'Category' and 'SubCategory'. Fill the DataFrame with random data and compute the sum of values for each 'Category' and 'SubCategory'."
   ]
  },
  {
   "cell_type": "code",
   "execution_count": 21,
   "id": "45077712",
   "metadata": {},
   "outputs": [
    {
     "name": "stdout",
     "output_type": "stream",
     "text": [
      "MultiIndex DataFrame:\n",
      "                      Value1  Value2  Value3\n",
      "Category SubCategory                        \n",
      "A        one              15      16      56\n",
      "         two              63      66      80\n",
      "B        one              61      51      87\n",
      "         two              10      41      63\n",
      "Indexing at Category 'A':\n",
      "             Value1  Value2  Value3\n",
      "SubCategory                        \n",
      "one              15      16      56\n",
      "two              63      66      80\n",
      "Slicing at Category 'B' and SubCategory 'two':\n",
      "Value1    10\n",
      "Value2    41\n",
      "Value3    63\n",
      "Name: (B, two), dtype: int32\n"
     ]
    }
   ],
   "source": [
    "arrays = [['A', 'A', 'B', 'B'], ['one', 'two', 'one', 'two']]\n",
    "index = pd.MultiIndex.from_arrays(arrays, names=(\"Category\", \"SubCategory\"))\n",
    "df = pd.DataFrame(np.random.randint(1, 101, size=(4, 3)), index=index, columns=[\"Value1\", \"Value2\", \"Value3\"])\n",
    "print(\"MultiIndex DataFrame:\")\n",
    "print(df)\n",
    "\n",
    "# Basic indexing and slicing operations\n",
    "print(\"Indexing at Category 'A':\")\n",
    "print(df.loc['A'])\n",
    "\n",
    "print(\"Slicing at Category 'B' and SubCategory 'two':\")\n",
    "print(df.loc[('B', 'two')])"
   ]
  },
  {
   "cell_type": "code",
   "execution_count": null,
   "id": "31bb1418",
   "metadata": {},
   "outputs": [
    {
     "name": "stdout",
     "output_type": "stream",
     "text": [
      "MultiIndex DataFrame:\n",
      "                      Value1  Value2  Value3\n",
      "Category SubCategory                        \n",
      "A        one              56      67      71\n",
      "         two              17       4      88\n",
      "B        one              34      29      59\n",
      "         two              16      67      66\n",
      "Sum of each category:\n",
      "          Value1  Value2  Value3\n",
      "Category                        \n",
      "A             73      71     159\n",
      "B             50      96     125\n",
      "Sum of each subcategory:\n",
      "             Value1  Value2  Value3\n",
      "SubCategory                        \n",
      "one              90      96     130\n",
      "two              33      71     154\n"
     ]
    }
   ],
   "source": [
    "arrays = [['A', 'A', 'B', 'B'], ['one', 'two', 'one', 'two']]\n",
    "index = pd.MultiIndex.from_arrays(arrays, names=(\"Category\", \"SubCategory\"))\n",
    "df = pd.DataFrame(np.random.randint(1, 101, size=(4, 3)), index=index, columns=[\"Value1\", \"Value2\", \"Value3\"])\n",
    "print(\"MultiIndex DataFrame:\")\n",
    "print(df)\n",
    "\n",
    "sum_each_category = df.groupby(level=0).sum()\n",
    "print(\"Sum of each category:\")\n",
    "print(sum_each_category)\n",
    "\n",
    "sum_each_subcategory = df.groupby(level=1).sum()\n",
    "print(\"Sum of each subcategory:\")\n",
    "print(sum_each_subcategory)"
   ]
  },
  {
   "cell_type": "markdown",
   "id": "61eb3c13",
   "metadata": {},
   "source": [
    "### Assignment 8: Pivot Tables"
   ]
  },
  {
   "cell_type": "markdown",
   "id": "f5ecfc79",
   "metadata": {},
   "source": [
    "1. Create a Pandas DataFrame with columns 'Date', 'Category', and 'Value'. Create a pivot table to compute the sum of 'Value' for each 'Category' by 'Date'.\n",
    "2. Create a Pandas DataFrame with columns 'Year', 'Quarter', and 'Revenue'. Create a pivot table to compute the mean 'Revenue' for each 'Quarter' by 'Year'."
   ]
  },
  {
   "cell_type": "code",
   "execution_count": 26,
   "id": "160be6ed",
   "metadata": {},
   "outputs": [
    {
     "name": "stdout",
     "output_type": "stream",
     "text": [
      "Original DataFrame:\n",
      "         Date Category  Value\n",
      "0  2022-01-06        A     54\n",
      "1  2022-01-09        C     61\n",
      "2  2022-01-06        C     75\n",
      "3  2022-01-02        A     13\n",
      "4  2022-01-06        A     78\n",
      "5  2022-01-04        A     43\n",
      "6  2022-01-05        A     58\n",
      "7  2022-01-10        C     52\n",
      "8  2022-01-05        A     32\n",
      "9  2022-01-09        C     53\n",
      "10 2022-01-03        B     68\n",
      "11 2022-01-07        A     68\n",
      "12 2022-01-06        C     76\n",
      "13 2022-01-06        B     99\n",
      "14 2022-01-02        A      3\n",
      "15 2022-01-02        C     12\n",
      "16 2022-01-01        B     39\n",
      "17 2022-01-04        A     97\n",
      "18 2022-01-05        C     76\n",
      "19 2022-01-01        A     85\n",
      "Pivot Table:\n",
      "Category        A     B      C\n",
      "Date                          \n",
      "2022-01-01   85.0  39.0    NaN\n",
      "2022-01-02   16.0   NaN   12.0\n",
      "2022-01-03    NaN  68.0    NaN\n",
      "2022-01-04  140.0   NaN    NaN\n",
      "2022-01-05   90.0   NaN   76.0\n",
      "2022-01-06  132.0  99.0  151.0\n",
      "2022-01-07   68.0   NaN    NaN\n",
      "2022-01-09    NaN   NaN  114.0\n",
      "2022-01-10    NaN   NaN   52.0\n"
     ]
    }
   ],
   "source": [
    "date_rng = pd.date_range(start='2022-01-01', end='2022-01-10', freq='D')\n",
    "df = pd.DataFrame({'Date': np.random.choice(date_rng, size=20), 'Category': np.random.choice(['A', 'B', 'C'], size=20), 'Value': np.random.randint(1, 100, size=20)})\n",
    "print(\"Original DataFrame:\")\n",
    "print(df)\n",
    "\n",
    "pivot_table = df.pivot_table(values=\"Value\", index=\"Date\", columns=\"Category\", aggfunc=\"sum\")\n",
    "print(\"Pivot Table:\")\n",
    "print(pivot_table)"
   ]
  },
  {
   "cell_type": "code",
   "execution_count": 27,
   "id": "ddedf710",
   "metadata": {},
   "outputs": [
    {
     "name": "stdout",
     "output_type": "stream",
     "text": [
      "Original DataFrame:\n",
      "    Year Quarter  Revenue\n",
      "0   2021      Q2      895\n",
      "1   2021      Q4      686\n",
      "2   2020      Q2      293\n",
      "3   2021      Q1      406\n",
      "4   2020      Q1       84\n",
      "5   2021      Q2      130\n",
      "6   2021      Q2      654\n",
      "7   2020      Q1      997\n",
      "8   2022      Q2      700\n",
      "9   2022      Q4      521\n",
      "10  2020      Q1      871\n",
      "11  2021      Q4      313\n",
      "Quarter          Q1          Q2     Q4\n",
      "Year                                  \n",
      "2020     650.666667  293.000000    NaN\n",
      "2021     406.000000  559.666667  499.5\n",
      "2022            NaN  700.000000  521.0\n"
     ]
    }
   ],
   "source": [
    "df = pd.DataFrame({'Year': np.random.choice([2020, 2021, 2022], size=12), 'Quarter': np.random.choice(['Q1', 'Q2', 'Q3', 'Q4'], size=12), 'Revenue': np.random.randint(1, 1000, size=12)})\n",
    "print(\"Original DataFrame:\")\n",
    "print(df)\n",
    "\n",
    "pivot_table = df.pivot_table(values=\"Revenue\", index=\"Year\", columns=\"Quarter\", aggfunc=\"mean\")\n",
    "print(pivot_table)"
   ]
  },
  {
   "cell_type": "markdown",
   "id": "60af2bb4",
   "metadata": {},
   "source": [
    "### Assignment 9: Applying Functions"
   ]
  },
  {
   "cell_type": "markdown",
   "id": "7fda485d",
   "metadata": {},
   "source": [
    "1. Create a Pandas DataFrame with 3 columns and 5 rows filled with random integers. Apply a function that doubles the values of the DataFrame.\n",
    "2. Create a Pandas DataFrame with 3 columns and 6 rows filled with random integers. Apply a lambda function to create a new column that is the sum of the existing columns."
   ]
  },
  {
   "cell_type": "code",
   "execution_count": 31,
   "id": "5ab9683c",
   "metadata": {},
   "outputs": [
    {
     "name": "stdout",
     "output_type": "stream",
     "text": [
      "    A   B   C\n",
      "0  63  90   5\n",
      "1  70   8  62\n",
      "2   2  20  74\n",
      "3  46  19  44\n",
      "4  88  34   6\n",
      "     A    B    C\n",
      "0  126  180   10\n",
      "1  140   16  124\n",
      "2    4   40  148\n",
      "3   92   38   88\n",
      "4  176   68   12\n"
     ]
    },
    {
     "name": "stderr",
     "output_type": "stream",
     "text": [
      "C:\\Users\\LENOVO\\AppData\\Local\\Temp\\ipykernel_13660\\1760242752.py:9: FutureWarning: DataFrame.applymap has been deprecated. Use DataFrame.map instead.\n",
      "  df = df.applymap(lambda x: x * 2)\n"
     ]
    }
   ],
   "source": [
    "df = pd.DataFrame(np.random.randint(1, 101, size=(5, 3)), columns=[\"A\", \"B\", \"C\"])\n",
    "print(df)\n",
    "\n",
    "## apply dilakukan ke per baris atau per kolom\n",
    "# df_1 = df.apply(lambda x: x.mean())\n",
    "# print(df_1)\n",
    "\n",
    "## applymap ke setiap 1 elemen\n",
    "df = df.applymap(lambda x: x * 2)\n",
    "print(df)"
   ]
  },
  {
   "cell_type": "code",
   "execution_count": 35,
   "id": "f0521747",
   "metadata": {},
   "outputs": [
    {
     "name": "stdout",
     "output_type": "stream",
     "text": [
      "    A   B   C\n",
      "0  72   2  96\n",
      "1  28  20  40\n",
      "2  76  50  44\n",
      "3  72  69  27\n",
      "4  28  37  36\n",
      "5  50  98  21\n",
      "    A   B   C  Sum\n",
      "0  72   2  96  170\n",
      "1  28  20  40   88\n",
      "2  76  50  44  170\n",
      "3  72  69  27  168\n",
      "4  28  37  36  101\n",
      "5  50  98  21  169\n"
     ]
    }
   ],
   "source": [
    "df = pd.DataFrame(np.random.randint(1, 101, size=(6, 3)), columns=[\"A\", \"B\", \"C\"])\n",
    "print(df)\n",
    "\n",
    "df[\"Sum\"] = df.apply(lambda row: row.sum(), axis=1)\n",
    "print(df)"
   ]
  },
  {
   "cell_type": "markdown",
   "id": "7e1886c9",
   "metadata": {},
   "source": [
    "### Assignment 10: Working with Text Data"
   ]
  },
  {
   "cell_type": "markdown",
   "id": "1d70f76e",
   "metadata": {},
   "source": [
    "1. Create a Pandas Series with 5 random text strings. Convert all the strings to uppercase.\n",
    "2. Create a Pandas Series with 5 random text strings. Extract the first three characters of each string."
   ]
  },
  {
   "cell_type": "code",
   "execution_count": 36,
   "id": "6f994c3e",
   "metadata": {},
   "outputs": [
    {
     "name": "stdout",
     "output_type": "stream",
     "text": [
      "Original Series:\n",
      "0         apple\n",
      "1        banana\n",
      "2        cherry\n",
      "3          date\n",
      "4    elderberry\n",
      "dtype: object\n",
      "0         APPLE\n",
      "1        BANANA\n",
      "2        CHERRY\n",
      "3          DATE\n",
      "4    ELDERBERRY\n",
      "dtype: object\n"
     ]
    }
   ],
   "source": [
    "text_data = pd.Series(['apple', 'banana', 'cherry', 'date', 'elderberry'])\n",
    "print(\"Original Series:\")\n",
    "print(text_data)\n",
    "\n",
    "uppercase_data = text_data.str.upper()\n",
    "print(uppercase_data)"
   ]
  },
  {
   "cell_type": "code",
   "execution_count": 37,
   "id": "5607540d",
   "metadata": {},
   "outputs": [
    {
     "name": "stdout",
     "output_type": "stream",
     "text": [
      "Original Series:\n",
      "0         apple\n",
      "1        banana\n",
      "2        cherry\n",
      "3          date\n",
      "4    elderberry\n",
      "dtype: object\n",
      "0    app\n",
      "1    ban\n",
      "2    che\n",
      "3    dat\n",
      "4    eld\n",
      "dtype: object\n"
     ]
    }
   ],
   "source": [
    "text_data = pd.Series(['apple', 'banana', 'cherry', 'date', 'elderberry'])\n",
    "print(\"Original Series:\")\n",
    "print(text_data)\n",
    "\n",
    "first_three_chars = text_data.str[:3]\n",
    "print(first_three_chars)"
   ]
  },
  {
   "cell_type": "code",
   "execution_count": null,
   "id": "68fb4df9",
   "metadata": {},
   "outputs": [],
   "source": []
  }
 ],
 "metadata": {
  "kernelspec": {
   "display_name": "Python 3",
   "language": "python",
   "name": "python3"
  },
  "language_info": {
   "codemirror_mode": {
    "name": "ipython",
    "version": 3
   },
   "file_extension": ".py",
   "mimetype": "text/x-python",
   "name": "python",
   "nbconvert_exporter": "python",
   "pygments_lexer": "ipython3",
   "version": "3.12.0"
  }
 },
 "nbformat": 4,
 "nbformat_minor": 5
}
