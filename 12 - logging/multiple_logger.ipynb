{
 "cells": [
  {
   "cell_type": "markdown",
   "id": "690b16e9",
   "metadata": {},
   "source": [
    "# Logging with Multiple Loggers"
   ]
  },
  {
   "cell_type": "code",
   "execution_count": 1,
   "id": "a4f67898",
   "metadata": {},
   "outputs": [],
   "source": [
    "import logging\n",
    "\n",
    "## create a logger for module1\n",
    "logger1 = logging.getLogger(\"module1\")\n",
    "logger1.setLevel(logging.DEBUG)\n",
    "\n",
    "## create a logger for module2\n",
    "logger2 = logging.getLogger(\"module2\")\n",
    "logger2.setLevel(logging.WARNING)\n",
    "\n",
    "## configure logging settings\n",
    "logging.basicConfig(\n",
    "    level=logging.DEBUG,\n",
    "    format=\"%(asctime)s - %(name)s - %(levelname)s - %(message)s\",\n",
    "    datefmt=\"%Y-%m-%d %H:%M:%S\"\n",
    ")"
   ]
  },
  {
   "cell_type": "code",
   "execution_count": 2,
   "id": "260b061c",
   "metadata": {},
   "outputs": [
    {
     "name": "stderr",
     "output_type": "stream",
     "text": [
      "2025-07-11 14:48:42 - module1 - DEBUG - This is a debug message for module1.\n",
      "2025-07-11 14:48:42 - module2 - WARNING - This is a warning message for module2.\n",
      "2025-07-11 14:48:42 - module2 - ERROR - This is an error message for module2.\n"
     ]
    }
   ],
   "source": [
    "## log message with different loggers\n",
    "logger1.debug(\"This is a debug message for module1.\")\n",
    "logger2.warning(\"This is a warning message for module2.\")\n",
    "logger2.error(\"This is an error message for module2.\")"
   ]
  },
  {
   "cell_type": "markdown",
   "id": "36480b36",
   "metadata": {},
   "source": [
    "logger2.debug() tidak dijalankan karena kita sudah melakukan logger2.setLevel(logging.WARNING), ini berarti logger2 hanya akan menjalankan log yang levelnya >= logging.WARNING.\n",
    "\n",
    "Urutan level adalah sebagai berikut:\n",
    "1. DEBUG          --> 10\n",
    "2. INFO           --> 20\n",
    "3. WARNING = WARN --> 30\n",
    "4. ERROR          --> 40\n",
    "5. CRITICAL       --> 50\n",
    "\n",
    "Berdasarkan hal tersebut, maka yang akan dijalankan oleh logger2 yaitu, logger2.warning(), logger2.error(), dan logger2.critical()."
   ]
  },
  {
   "cell_type": "code",
   "execution_count": 4,
   "id": "486c7ce2",
   "metadata": {},
   "outputs": [
    {
     "name": "stderr",
     "output_type": "stream",
     "text": [
      "2025-07-11 14:54:19 - module2 - CRITICAL - This is a critical message for module2.\n"
     ]
    }
   ],
   "source": [
    "logger2.debug(\"This is a debug message for module2.\")\n",
    "logger2.critical(\"This is a critical message for module2.\")"
   ]
  },
  {
   "cell_type": "code",
   "execution_count": null,
   "id": "496ca333",
   "metadata": {},
   "outputs": [],
   "source": []
  },
  {
   "cell_type": "code",
   "execution_count": null,
   "id": "76264a7f",
   "metadata": {},
   "outputs": [],
   "source": []
  }
 ],
 "metadata": {
  "kernelspec": {
   "display_name": "Python 3",
   "language": "python",
   "name": "python3"
  },
  "language_info": {
   "codemirror_mode": {
    "name": "ipython",
    "version": 3
   },
   "file_extension": ".py",
   "mimetype": "text/x-python",
   "name": "python",
   "nbconvert_exporter": "python",
   "pygments_lexer": "ipython3",
   "version": "3.12.0"
  }
 },
 "nbformat": 4,
 "nbformat_minor": 5
}
