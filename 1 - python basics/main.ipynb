{
 "cells": [
  {
   "cell_type": "markdown",
   "id": "4c38d899",
   "metadata": {},
   "source": [
    "## Line Continuation"
   ]
  },
  {
   "cell_type": "code",
   "execution_count": 29,
   "id": "55eabcc8",
   "metadata": {},
   "outputs": [
    {
     "name": "stdout",
     "output_type": "stream",
     "text": [
      "10\n"
     ]
    }
   ],
   "source": [
    "total = 1 + 2 + 3 + \\\n",
    "        + 4\n",
    "\n",
    "print(total)"
   ]
  },
  {
   "cell_type": "markdown",
   "id": "8f78e657",
   "metadata": {},
   "source": [
    "## Multiple Statements on A Single Line"
   ]
  },
  {
   "cell_type": "code",
   "execution_count": 30,
   "id": "abbbceca",
   "metadata": {},
   "outputs": [
    {
     "name": "stdout",
     "output_type": "stream",
     "text": [
      "15\n"
     ]
    }
   ],
   "source": [
    "x = 10; y = 5; z = x + y\n",
    "\n",
    "print(z)"
   ]
  },
  {
   "cell_type": "markdown",
   "id": "5c14e8bd",
   "metadata": {},
   "source": [
    "## Indentation"
   ]
  },
  {
   "cell_type": "code",
   "execution_count": 31,
   "id": "dafdf3ca",
   "metadata": {},
   "outputs": [
    {
     "name": "stdout",
     "output_type": "stream",
     "text": [
      "1\n",
      "2\n",
      "3\n",
      "4\n"
     ]
    }
   ],
   "source": [
    "if True:\n",
    "    print(1)\n",
    "    if True:\n",
    "        print(2)\n",
    "    print(3)\n",
    "print(4)"
   ]
  },
  {
   "cell_type": "markdown",
   "id": "5c07041f",
   "metadata": {},
   "source": [
    "## Exploration"
   ]
  },
  {
   "cell_type": "code",
   "execution_count": 32,
   "id": "9717fb58",
   "metadata": {},
   "outputs": [
    {
     "name": "stdout",
     "output_type": "stream",
     "text": [
      "Andre\n",
      "Andre\n"
     ]
    }
   ],
   "source": [
    "result = \"Andre\"\n",
    "nama = name = \"Andre\"\n",
    "\n",
    "if nama == name == result:\n",
    "    print(nama)\n",
    "    print(name)\n",
    "else:\n",
    "    print(\"Anonymous\")"
   ]
  },
  {
   "cell_type": "code",
   "execution_count": 33,
   "id": "b150cd69",
   "metadata": {},
   "outputs": [
    {
     "name": "stdout",
     "output_type": "stream",
     "text": [
      "<class 'bool'>\n",
      "It is boolean\n"
     ]
    }
   ],
   "source": [
    "is_true = True\n",
    "\n",
    "print(type(is_true))\n",
    "\n",
    "if type(is_true) == bool:\n",
    "    print(\"It is boolean\")"
   ]
  },
  {
   "cell_type": "code",
   "execution_count": 34,
   "id": "beed2966",
   "metadata": {},
   "outputs": [
    {
     "name": "stdout",
     "output_type": "stream",
     "text": [
      "30\n"
     ]
    }
   ],
   "source": [
    "age = \"30\"\n",
    "\n",
    "age = int(age)\n",
    "\n",
    "print(age)"
   ]
  },
  {
   "cell_type": "code",
   "execution_count": 35,
   "id": "cd0f2dc0",
   "metadata": {},
   "outputs": [
    {
     "name": "stdout",
     "output_type": "stream",
     "text": [
      "32.2\n"
     ]
    }
   ],
   "source": [
    "age = \"32.2\"\n",
    "\n",
    "age = float(age)\n",
    "\n",
    "print(age)"
   ]
  },
  {
   "cell_type": "code",
   "execution_count": 36,
   "id": "04e2dd45",
   "metadata": {},
   "outputs": [
    {
     "data": {
      "text/plain": [
       "float"
      ]
     },
     "execution_count": 36,
     "metadata": {},
     "output_type": "execute_result"
    }
   ],
   "source": [
    "type(age)"
   ]
  },
  {
   "cell_type": "code",
   "execution_count": 37,
   "id": "570b4dd5",
   "metadata": {},
   "outputs": [
    {
     "name": "stdout",
     "output_type": "stream",
     "text": [
      "19.0 <class 'float'>\n"
     ]
    }
   ],
   "source": [
    "age = float(input(\"Your age: \"))\n",
    "\n",
    "print(age, type(age))"
   ]
  },
  {
   "cell_type": "code",
   "execution_count": 38,
   "id": "1a4f49f3",
   "metadata": {},
   "outputs": [
    {
     "data": {
      "text/plain": [
       "float"
      ]
     },
     "execution_count": 38,
     "metadata": {},
     "output_type": "execute_result"
    }
   ],
   "source": [
    "type(age)"
   ]
  },
  {
   "cell_type": "code",
   "execution_count": 39,
   "id": "57ac31c0",
   "metadata": {},
   "outputs": [
    {
     "data": {
      "text/plain": [
       "False"
      ]
     },
     "execution_count": 39,
     "metadata": {},
     "output_type": "execute_result"
    }
   ],
   "source": [
    "bool()"
   ]
  },
  {
   "cell_type": "code",
   "execution_count": 40,
   "id": "364d8594",
   "metadata": {},
   "outputs": [
    {
     "name": "stdout",
     "output_type": "stream",
     "text": [
      "15 <class 'int'>\n"
     ]
    }
   ],
   "source": [
    "result = int(\"10\") + 5\n",
    "\n",
    "print(result, type(result))"
   ]
  }
 ],
 "metadata": {
  "kernelspec": {
   "display_name": "venv",
   "language": "python",
   "name": "python3"
  },
  "language_info": {
   "codemirror_mode": {
    "name": "ipython",
    "version": 3
   },
   "file_extension": ".py",
   "mimetype": "text/x-python",
   "name": "python",
   "nbconvert_exporter": "python",
   "pygments_lexer": "ipython3",
   "version": "3.12.0"
  }
 },
 "nbformat": 4,
 "nbformat_minor": 5
}
