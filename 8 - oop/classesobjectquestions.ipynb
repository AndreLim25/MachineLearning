{
 "cells": [
  {
   "cell_type": "markdown",
   "metadata": {},
   "source": [
    "# Module: Classes and Objects Assignments\n",
    "## Lesson: Creating and Working with Classes and Objects\n",
    "### Assignment 1: Basic Class and Object Creation\n",
    "\n",
    "Create a class named `Car` with attributes `make`, `model`, and `year`. Create an object of the class and print its attributes.\n",
    "\n",
    "### Assignment 2: Methods in Class\n",
    "\n",
    "Add a method named `start_engine` to the `Car` class that prints a message when the engine starts. Create an object of the class and call the method.\n",
    "\n",
    "### Assignment 3: Class with Constructor\n",
    "\n",
    "Create a class named `Student` with attributes `name` and `age`. Use a constructor to initialize these attributes. Create an object of the class and print its attributes.\n",
    "\n",
    "### Assignment 4: Class with Private Attributes\n",
    "\n",
    "Create a class named `BankAccount` with private attributes `account_number` and `balance`. Add methods to deposit and withdraw money, and to check the balance. Create an object of the class and perform some operations.\n",
    "\n",
    "### Assignment 5: Class Inheritance\n",
    "\n",
    "Create a base class named `Person` with attributes `name` and `age`. Create a derived class named `Employee` that inherits from `Person` and adds an attribute `employee_id`. Create an object of the derived class and print its attributes.\n",
    "\n",
    "### Assignment 6: Method Overriding\n",
    "\n",
    "In the `Employee` class, override the `__str__` method to return a string representation of the object. Create an object of the class and print it.\n",
    "\n",
    "### Assignment 7: Class Composition\n",
    "\n",
    "Create a class named `Address` with attributes `street`, `city`, and `zipcode`. Create a class named `Person` that has an `Address` object as an attribute. Create an object of the `Person` class and print its address.\n",
    "\n",
    "### Assignment 8: Class with Class Variables\n",
    "\n",
    "Create a class named `Counter` with a class variable `count`. Each time an object is created, increment the count. Add a method to get the current count. Create multiple objects and print the count.\n",
    "\n",
    "### Assignment 9: Static Methods\n",
    "\n",
    "Create a class named `MathOperations` with a static method to calculate the square root of a number. Call the static method without creating an object.\n",
    "\n",
    "### Assignment 10: Class with Properties\n",
    "\n",
    "Create a class named `Rectangle` with private attributes `length` and `width`. Use properties to get and set these attributes. Create an object of the class and test the properties.\n",
    "\n",
    "### Assignment 11: Abstract Base Class\n",
    "\n",
    "Create an abstract base class named `Shape` with an abstract method `area`. Create derived classes `Circle` and `Square` that implement the `area` method. Create objects of the derived classes and call the `area` method.\n",
    "\n",
    "### Assignment 12: Operator Overloading\n",
    "\n",
    "Create a class named `Vector` with attributes `x` and `y`. Overload the `+` operator to add two `Vector` objects. Create objects of the class and test the operator overloading.\n",
    "\n",
    "### Assignment 13: Class with Custom Exception\n",
    "\n",
    "Create a custom exception named `InsufficientBalanceError`. In the `BankAccount` class, raise this exception when a withdrawal amount is greater than the balance. Handle the exception and print an appropriate message.\n",
    "\n",
    "### Assignment 14: Class with Context Manager\n",
    "\n",
    "Create a class named `FileManager` that implements the context manager protocol to open and close a file. Use this class to read the contents of a file.\n",
    "\n",
    "### Assignment 15: Chaining Methods\n",
    "\n",
    "Create a class named `Calculator` with methods to add, subtract, multiply, and divide. Each method should return the object itself to allow method chaining. Create an object and chain multiple method calls."
   ]
  },
  {
   "cell_type": "code",
   "execution_count": 1,
   "metadata": {},
   "outputs": [
    {
     "name": "stdout",
     "output_type": "stream",
     "text": [
      "Mitsubishi\n",
      "Dakar\n",
      "2024\n"
     ]
    }
   ],
   "source": [
    "## Assignment 1\n",
    "class Car:\n",
    "    def __init__(self, make, model, year):\n",
    "        self.make = make\n",
    "        self.model = model\n",
    "        self.year = year\n",
    "\n",
    "pajero = Car(\"Mitsubishi\", \"Dakar\", 2024)\n",
    "print(pajero.make)\n",
    "print(pajero.model)\n",
    "print(pajero.year)"
   ]
  },
  {
   "cell_type": "code",
   "execution_count": 3,
   "id": "54a26998",
   "metadata": {},
   "outputs": [
    {
     "name": "stdout",
     "output_type": "stream",
     "text": [
      "Car engine is starting.\n"
     ]
    }
   ],
   "source": [
    "## Assignment 2\n",
    "class Car:\n",
    "    def __init__(self, make, model, year):\n",
    "        self.make = make\n",
    "        self.model = model\n",
    "        self.year = year\n",
    "    \n",
    "    def start_engine(self):\n",
    "        print(\"Car engine is starting.\")\n",
    "\n",
    "pajero = Car(\"Mitsubishi\", \"Dakar\", 2024)\n",
    "pajero.start_engine()"
   ]
  },
  {
   "cell_type": "code",
   "execution_count": 4,
   "id": "e2e22f61",
   "metadata": {},
   "outputs": [
    {
     "name": "stdout",
     "output_type": "stream",
     "text": [
      "Andre\n",
      "19\n"
     ]
    }
   ],
   "source": [
    "## Assignment 3\n",
    "class Student:\n",
    "    def __init__(self, name, age):\n",
    "        self.name = name\n",
    "        self.age = age\n",
    "\n",
    "student1 = Student(\"Andre\", 19)\n",
    "print(student1.name)\n",
    "print(student1.age)"
   ]
  },
  {
   "cell_type": "code",
   "execution_count": 2,
   "id": "093e6b41",
   "metadata": {},
   "outputs": [
    {
     "name": "stdout",
     "output_type": "stream",
     "text": [
      "0\n",
      "2500\n"
     ]
    }
   ],
   "source": [
    "## Assignment 4\n",
    "class BankAccount:\n",
    "    def __init__(self, account_number, balance):\n",
    "        self.__account_number = account_number\n",
    "        self.__balance = balance\n",
    "    \n",
    "    def deposit(self, amount):\n",
    "        self.__balance += amount\n",
    "\n",
    "    def withdraw(self, amount):\n",
    "        if self.__balance < amount:\n",
    "            print(\"Insufficient funds.\")\n",
    "        else:\n",
    "            self.__balance -= amount\n",
    "    \n",
    "    def get_balance(self):\n",
    "        return self.__balance\n",
    "\n",
    "account = BankAccount(12345, 0)\n",
    "\n",
    "print(account.get_balance())\n",
    "\n",
    "account.deposit(3000)\n",
    "account.withdraw(500)\n",
    "\n",
    "print(account.get_balance())"
   ]
  },
  {
   "cell_type": "code",
   "execution_count": 5,
   "id": "da0c5481",
   "metadata": {},
   "outputs": [
    {
     "name": "stdout",
     "output_type": "stream",
     "text": [
      "Andre\n",
      "19\n",
      "dre_123\n"
     ]
    }
   ],
   "source": [
    "## Assignment 5\n",
    "class Person:\n",
    "    def __init__(self, name, age):\n",
    "        self.name = name\n",
    "        self.age = age\n",
    "\n",
    "class Employee(Person):\n",
    "    def __init__(self, name, age, employee_id):\n",
    "        super().__init__(name, age)\n",
    "        self.employee_id = employee_id\n",
    "\n",
    "employee1 = Employee(\"Andre\", 19, \"dre_123\")\n",
    "print(employee1.name)\n",
    "print(employee1.age)\n",
    "print(employee1.employee_id)"
   ]
  },
  {
   "cell_type": "code",
   "execution_count": 3,
   "id": "837607ef",
   "metadata": {},
   "outputs": [
    {
     "name": "stdout",
     "output_type": "stream",
     "text": [
      "Employee(Andre, 19, dre_123)\n"
     ]
    }
   ],
   "source": [
    "## Assignment 6\n",
    "class Person:\n",
    "    def __init__(self, name, age):\n",
    "        self.name = name\n",
    "        self.age = age\n",
    "\n",
    "class Employee(Person):\n",
    "    def __init__(self, name, age, employee_id):\n",
    "        super().__init__(name, age)\n",
    "        self.employee_id = employee_id\n",
    "    \n",
    "    def __str__(self):\n",
    "        return f\"Employee({self.name}, {self.age}, {self.employee_id})\"\n",
    "\n",
    "employee = Employee(\"Andre\", 19, \"dre_123\")\n",
    "print(employee)"
   ]
  },
  {
   "cell_type": "code",
   "execution_count": 4,
   "id": "7e7fe806",
   "metadata": {},
   "outputs": [
    {
     "name": "stdout",
     "output_type": "stream",
     "text": [
      "Andre's Address:\n",
      "Street: Jalan Sunggal\n",
      "City: Medan\n",
      "Zipcode: 20128\n"
     ]
    }
   ],
   "source": [
    "## Assignment 7\n",
    "class Address:\n",
    "    def __init__(self, street, city, zipcode):\n",
    "        self.street = street\n",
    "        self.city = city\n",
    "        self.zipcode = zipcode\n",
    "\n",
    "class Person:\n",
    "    def __init__(self, name, address):\n",
    "        self.name = name\n",
    "        self.address = address\n",
    "\n",
    "person = Person(\"Andre\", Address(\"Jalan Sunggal\", \"Medan\", 20128))\n",
    "print(f\"{person.name}'s Address:\")\n",
    "print(f\"Street: {person.address.street}\")\n",
    "print(f\"City: {person.address.city}\")\n",
    "print(f\"Zipcode: {person.address.zipcode}\")"
   ]
  },
  {
   "cell_type": "code",
   "execution_count": 8,
   "id": "f36af9a2",
   "metadata": {},
   "outputs": [
    {
     "name": "stdout",
     "output_type": "stream",
     "text": [
      "3\n",
      "3\n"
     ]
    }
   ],
   "source": [
    "## Assignment 8\n",
    "class Counter:\n",
    "    count = 0\n",
    "\n",
    "    def __init__(self):\n",
    "        Counter.count += 1\n",
    "    \n",
    "    @classmethod\n",
    "    def get_count(cls):\n",
    "        return cls.count\n",
    "\n",
    "counter1 = Counter()\n",
    "counter2 = Counter()\n",
    "counter3 = Counter()\n",
    "\n",
    "print(counter1.get_count())\n",
    "print(counter3.get_count())"
   ]
  },
  {
   "cell_type": "code",
   "execution_count": 9,
   "id": "b3a780e8",
   "metadata": {},
   "outputs": [
    {
     "name": "stdout",
     "output_type": "stream",
     "text": [
      "5.0\n"
     ]
    }
   ],
   "source": [
    "## Assignment 9\n",
    "import math\n",
    "class MathOperations:\n",
    "    @staticmethod\n",
    "    def square_root(num):\n",
    "        return math.sqrt(num)\n",
    "\n",
    "print(MathOperations.square_root(25))"
   ]
  },
  {
   "cell_type": "code",
   "execution_count": 10,
   "id": "b3a91651",
   "metadata": {},
   "outputs": [
    {
     "name": "stdout",
     "output_type": "stream",
     "text": [
      "5\n",
      "10\n",
      "10\n",
      "20\n"
     ]
    }
   ],
   "source": [
    "## Assignment 10\n",
    "class Rectangle:\n",
    "    def __init__(self, length, width):\n",
    "        self.__length = length\n",
    "        self.__width = width\n",
    "    \n",
    "    def get_length(self):\n",
    "        return self.__length\n",
    "    \n",
    "    def set_length(self, length):\n",
    "        self.__length = length\n",
    "\n",
    "    def get_width(self):\n",
    "        return self.__width\n",
    "    \n",
    "    def set_width(self, width):\n",
    "        self.__width = width\n",
    "\n",
    "rectangle = Rectangle(5, 10)\n",
    "print(rectangle.get_length())\n",
    "print(rectangle.get_width())\n",
    "\n",
    "rectangle.set_length(10)\n",
    "rectangle.set_width(20)\n",
    "print(rectangle.get_length())\n",
    "print(rectangle.get_width())"
   ]
  },
  {
   "cell_type": "code",
   "execution_count": 11,
   "id": "74e77bc9",
   "metadata": {},
   "outputs": [
    {
     "name": "stdout",
     "output_type": "stream",
     "text": [
      "5\n",
      "10\n",
      "10\n",
      "20\n"
     ]
    }
   ],
   "source": [
    "## Assignment 10 (2)\n",
    "class Rectangle:\n",
    "    def __init__(self, length, width):\n",
    "        self.__length = length\n",
    "        self.__width = width\n",
    "    \n",
    "    @property\n",
    "    def length(self):\n",
    "        return self.__length\n",
    "    \n",
    "    @length.setter\n",
    "    def length(self, length):\n",
    "        self.__length = length\n",
    "\n",
    "    @property\n",
    "    def width(self):\n",
    "        return self.__width\n",
    "    \n",
    "    @width.setter\n",
    "    def width(self, width):\n",
    "        self.__width = width\n",
    "\n",
    "rectangle = Rectangle(5, 10)\n",
    "print(rectangle.length)\n",
    "print(rectangle.width)\n",
    "\n",
    "rectangle.length = 10\n",
    "rectangle.width = 20\n",
    "print(rectangle.length)\n",
    "print(rectangle.width)"
   ]
  },
  {
   "cell_type": "code",
   "execution_count": 12,
   "id": "21497f63",
   "metadata": {},
   "outputs": [
    {
     "name": "stdout",
     "output_type": "stream",
     "text": [
      "314.0\n",
      "100\n"
     ]
    }
   ],
   "source": [
    "## Assignment 11\n",
    "from abc import ABC, abstractmethod\n",
    "\n",
    "class Shape(ABC):\n",
    "    @abstractmethod\n",
    "    def area(self):\n",
    "        pass\n",
    "\n",
    "class Circle(Shape):\n",
    "    def __init__(self, radius):\n",
    "        self.radius = radius\n",
    "    \n",
    "    def area(self):\n",
    "        return 3.14 * self.radius * self.radius\n",
    "\n",
    "class Rectangle(Shape):\n",
    "    def __init__(self, width, height):\n",
    "        self.width = width\n",
    "        self.height = height\n",
    "    \n",
    "    def area(self):\n",
    "        return self.width * self.height\n",
    "\n",
    "def print_area(shape):\n",
    "    print(shape.area())\n",
    "\n",
    "circle = Circle(10)\n",
    "rectangle = Rectangle(10, 10)\n",
    "\n",
    "print_area(circle)\n",
    "print_area(rectangle)"
   ]
  },
  {
   "cell_type": "code",
   "execution_count": 13,
   "id": "631b4968",
   "metadata": {},
   "outputs": [
    {
     "name": "stdout",
     "output_type": "stream",
     "text": [
      "Vector(4, 6)\n"
     ]
    }
   ],
   "source": [
    "## Assignment 12\n",
    "class Vector:\n",
    "    def __init__(self, x, y):\n",
    "        self.x = x\n",
    "        self.y = y\n",
    "    \n",
    "    def __add__(self, other):\n",
    "        return Vector(self.x + other.x, self.y + other.y)\n",
    "    \n",
    "    def __repr__(self):\n",
    "        return f\"Vector({self.x}, {self.y})\"\n",
    "\n",
    "v1 = Vector(1, 2)\n",
    "v2 = Vector(3, 4)\n",
    "\n",
    "print(v1 + v2)"
   ]
  },
  {
   "cell_type": "code",
   "execution_count": 15,
   "id": "addb6aef",
   "metadata": {},
   "outputs": [
    {
     "name": "stdout",
     "output_type": "stream",
     "text": [
      "Error: Insufficient funds.\n"
     ]
    }
   ],
   "source": [
    "## Assignment 13\n",
    "class InsufficientBalanceError(Exception):\n",
    "    pass\n",
    "\n",
    "class BankAccount:\n",
    "    def __init__(self, account_number, balance):\n",
    "        self.__account_number = account_number\n",
    "        self.__balance = balance\n",
    "    \n",
    "    def deposit(self, amount):\n",
    "        self.__balance += amount\n",
    "\n",
    "    def withdraw(self, amount):\n",
    "        if self.__balance < amount:\n",
    "            raise InsufficientBalanceError(\"Insufficient funds.\")\n",
    "        else:\n",
    "            self.__balance -= amount\n",
    "    \n",
    "    def get_balance(self):\n",
    "        return self.__balance\n",
    "\n",
    "try:\n",
    "    account = BankAccount(12345, 0)\n",
    "    account.withdraw(100)\n",
    "except InsufficientBalanceError as e:\n",
    "    print(f\"Error: {e}\")"
   ]
  },
  {
   "cell_type": "code",
   "execution_count": 16,
   "id": "67767f7a",
   "metadata": {},
   "outputs": [
    {
     "name": "stdout",
     "output_type": "stream",
     "text": [
      "Hello everyone\n",
      "My name is Andre\n",
      "I am a computer science student\n"
     ]
    }
   ],
   "source": [
    "## Assignment 14\n",
    "class FileManager:\n",
    "    def __init__(self, filename, mode):\n",
    "        self.filename = filename\n",
    "        self.mode = mode\n",
    "    \n",
    "    def __enter__(self):\n",
    "        self.file = open(self.filename, self.mode)\n",
    "        return self.file\n",
    "    \n",
    "    def __exit__(self, exc_type, exc_value, traceback):\n",
    "        self.file.close()\n",
    "\n",
    "with FileManager(\"document.txt\", \"r\") as file:\n",
    "    content = file.read()\n",
    "    print(content)"
   ]
  },
  {
   "cell_type": "code",
   "execution_count": 17,
   "id": "c35ad87a",
   "metadata": {},
   "outputs": [
    {
     "name": "stdout",
     "output_type": "stream",
     "text": [
      "2.0\n"
     ]
    }
   ],
   "source": [
    "## Assignment 15\n",
    "class Calculator:\n",
    "    def __init__(self, value=0):\n",
    "        self.value = value\n",
    "    \n",
    "    def add(self, amount):\n",
    "        self.value += amount\n",
    "        return self\n",
    "    \n",
    "    def substract(self, amount):\n",
    "        self.value -= amount\n",
    "        return self\n",
    "\n",
    "    def multiply(self, amount):\n",
    "        self.value *= amount\n",
    "        return self\n",
    "    \n",
    "    def divide(self, amount):\n",
    "        if amount != 0:\n",
    "            self.value /= amount\n",
    "        else:\n",
    "            print(\"Cannot divide by zero!\")\n",
    "        return self\n",
    "\n",
    "calc = Calculator()\n",
    "calc.add(10).substract(3).multiply(2).divide(7)\n",
    "print(calc.value)"
   ]
  }
 ],
 "metadata": {
  "kernelspec": {
   "display_name": "Python 3",
   "language": "python",
   "name": "python3"
  },
  "language_info": {
   "codemirror_mode": {
    "name": "ipython",
    "version": 3
   },
   "file_extension": ".py",
   "mimetype": "text/x-python",
   "name": "python",
   "nbconvert_exporter": "python",
   "pygments_lexer": "ipython3",
   "version": "3.12.0"
  }
 },
 "nbformat": 4,
 "nbformat_minor": 5
}
