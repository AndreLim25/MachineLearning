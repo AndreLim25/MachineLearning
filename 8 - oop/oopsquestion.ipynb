{
 "cells": [
  {
   "cell_type": "markdown",
   "metadata": {},
   "source": [
    "# Module: OOP Assignments\n",
    "## Lesson: Polymorphism, Abstraction, and Encapsulation\n",
    "### Assignment 1: Polymorphism with Methods\n",
    "\n",
    "Create a base class named `Shape` with a method `area`. Create two derived classes `Circle` and `Square` that override the `area` method. Create a list of `Shape` objects and call the `area` method on each object to demonstrate polymorphism.\n",
    "\n",
    "### Assignment 2: Polymorphism with Function Arguments\n",
    "\n",
    "Create a function named `describe_shape` that takes a `Shape` object as an argument and calls its `area` method. Create objects of `Circle` and `Square` classes and pass them to the `describe_shape` function.\n",
    "\n",
    "### Assignment 3: Abstract Base Class with Abstract Methods\n",
    "\n",
    "Create an abstract base class named `Vehicle` with an abstract method `start_engine`. Create derived classes `Car` and `Bike` that implement the `start_engine` method. Create objects of the derived classes and call the `start_engine` method.\n",
    "\n",
    "### Assignment 4: Abstract Base Class with Concrete Methods\n",
    "\n",
    "In the `Vehicle` class, add a concrete method `fuel_type` that returns a generic fuel type. Override this method in `Car` and `Bike` classes to return specific fuel types. Create objects of the derived classes and call the `fuel_type` method.\n",
    "\n",
    "### Assignment 5: Encapsulation with Private Attributes\n",
    "\n",
    "Create a class named `BankAccount` with private attributes `account_number` and `balance`. Add methods to deposit and withdraw money, and to check the balance. Ensure that the balance cannot be accessed directly.\n",
    "\n",
    "### Assignment 6: Encapsulation with Property Decorators\n",
    "\n",
    "In the `BankAccount` class, use property decorators to get and set the `balance` attribute. Ensure that the balance cannot be set to a negative value.\n",
    "\n",
    "### Assignment 7: Combining Encapsulation and Inheritance\n",
    "\n",
    "Create a base class named `Person` with private attributes `name` and `age`. Add methods to get and set these attributes. Create a derived class named `Student` that adds an attribute `student_id`. Create an object of the `Student` class and test the encapsulation.\n",
    "\n",
    "### Assignment 8: Polymorphism with Inheritance\n",
    "\n",
    "Create a base class named `Animal` with a method `speak`. Create two derived classes `Dog` and `Cat` that override the `speak` method. Create a list of `Animal` objects and call the `speak` method on each object to demonstrate polymorphism.\n",
    "\n",
    "### Assignment 9: Abstract Methods in Base Class\n",
    "\n",
    "Create an abstract base class named `Employee` with an abstract method `calculate_salary`. Create two derived classes `FullTimeEmployee` and `PartTimeEmployee` that implement the `calculate_salary` method. Create objects of the derived classes and call the `calculate_salary` method.\n",
    "\n",
    "### Assignment 10: Encapsulation in Data Classes\n",
    "\n",
    "Create a data class named `Product` with private attributes `product_id`, `name`, and `price`. Add methods to get and set these attributes. Ensure that the price cannot be set to a negative value.\n",
    "\n",
    "### Assignment 11: Polymorphism with Operator Overloading\n",
    "\n",
    "Create a class named `Vector` with attributes `x` and `y`. Overload the `+` operator to add two `Vector` objects. Create objects of the class and test the operator overloading.\n",
    "\n",
    "### Assignment 12: Abstract Properties\n",
    "\n",
    "Create an abstract base class named `Appliance` with an abstract property `power`. Create two derived classes `WashingMachine` and `Refrigerator` that implement the `power` property. Create objects of the derived classes and access the `power` property.\n",
    "\n",
    "### Assignment 13: Encapsulation in Class Hierarchies\n",
    "\n",
    "Create a base class named `Account` with private attributes `account_number` and `balance`. Add methods to get and set these attributes. Create a derived class named `SavingsAccount` that adds an attribute `interest_rate`. Create an object of the `SavingsAccount` class and test the encapsulation.\n",
    "\n",
    "### Assignment 14: Polymorphism with Multiple Inheritance\n",
    "\n",
    "Create a class named `Flyer` with a method `fly`. Create a class named `Swimmer` with a method `swim`. Create a class named `Superhero` that inherits from both `Flyer` and `Swimmer` and overrides both methods. Create an object of the `Superhero` class and call both methods.\n",
    "\n",
    "### Assignment 15: Abstract Methods and Multiple Inheritance\n",
    "\n",
    "Create an abstract base class named `Worker` with an abstract method `work`. Create two derived classes `Engineer` and `Doctor` that implement the `work` method. Create another derived class `Scientist` that inherits from both `Engineer` and `Doctor`. Create an object of the `Scientist` class and call the `work` method."
   ]
  },
  {
   "cell_type": "code",
   "execution_count": 1,
   "id": "f9c2b1fb",
   "metadata": {},
   "outputs": [
    {
     "name": "stdout",
     "output_type": "stream",
     "text": [
      "314.0\n",
      "100\n"
     ]
    }
   ],
   "source": [
    "## Assignment 1\n",
    "class Shape:\n",
    "    def area(self):\n",
    "        pass\n",
    "\n",
    "class Circle(Shape):\n",
    "    def __init__(self, radius):\n",
    "        self.radius = radius\n",
    "\n",
    "    def area(self):\n",
    "        return 3.14 * self.radius* self.radius\n",
    "\n",
    "class Square(Shape):\n",
    "    def __init__(self, side):\n",
    "        self.side = side\n",
    "    \n",
    "    def area(self):\n",
    "        return self.side * self.side\n",
    "\n",
    "circle = Circle(10)\n",
    "square = Square(10)\n",
    "lst_of_shapes = [circle, square]\n",
    "\n",
    "for shape in lst_of_shapes:\n",
    "    print(shape.area())"
   ]
  },
  {
   "cell_type": "code",
   "execution_count": 2,
   "id": "ce088b78",
   "metadata": {},
   "outputs": [
    {
     "name": "stdout",
     "output_type": "stream",
     "text": [
      "1256.0\n",
      "400\n"
     ]
    }
   ],
   "source": [
    "## Assignment 2\n",
    "def describe_shape(shape):\n",
    "    print(shape.area())\n",
    "\n",
    "circle = Circle(20)\n",
    "square = Square(20)\n",
    "describe_shape(circle)\n",
    "describe_shape(square)"
   ]
  },
  {
   "cell_type": "code",
   "execution_count": 4,
   "id": "6e8f11a8",
   "metadata": {},
   "outputs": [
    {
     "name": "stdout",
     "output_type": "stream",
     "text": [
      "Car is starting.\n",
      "Bike is starting.\n"
     ]
    }
   ],
   "source": [
    "## Assignment 3\n",
    "from abc import ABC, abstractmethod\n",
    "\n",
    "class Vehicle(ABC):\n",
    "    @abstractmethod\n",
    "    def start_engine(self):\n",
    "        pass\n",
    "\n",
    "class Car(Vehicle):\n",
    "    def start_engine(self):\n",
    "        print(\"Car is starting.\")\n",
    "\n",
    "class Bike(Vehicle):\n",
    "    def start_engine(self):\n",
    "        print(\"Bike is starting.\")\n",
    "\n",
    "car = Car()\n",
    "bike = Bike()\n",
    "\n",
    "car.start_engine()\n",
    "bike.start_engine()"
   ]
  },
  {
   "cell_type": "code",
   "execution_count": 6,
   "id": "dd787bb8",
   "metadata": {},
   "outputs": [
    {
     "name": "stdout",
     "output_type": "stream",
     "text": [
      "electric\n",
      "solar\n"
     ]
    }
   ],
   "source": [
    "## Assignment 4\n",
    "class Vehicle(ABC):\n",
    "    def fuel_type(self):\n",
    "        return \"petrol\"\n",
    "    \n",
    "    @abstractmethod\n",
    "    def start_engine(self):\n",
    "        pass\n",
    "\n",
    "class Car(Vehicle):\n",
    "    def __init__(self, type_of_fuel):\n",
    "        self.type_of_fuel = type_of_fuel\n",
    "\n",
    "    def fuel_type(self):\n",
    "        return self.type_of_fuel\n",
    "\n",
    "    def start_engine(self):\n",
    "        print(\"Car is starting.\")\n",
    "\n",
    "class Bike(Vehicle):\n",
    "    def __init__(self, type_of_fuel):\n",
    "        self.type_of_fuel = type_of_fuel\n",
    "    \n",
    "    def fuel_type(self):\n",
    "        return self.type_of_fuel\n",
    "    \n",
    "    def start_engine(self):\n",
    "        print(\"Bike is starting.\")\n",
    "\n",
    "car = Car(\"electric\")\n",
    "bike = Bike(\"solar\")\n",
    "\n",
    "print(car.fuel_type())\n",
    "print(bike.fuel_type())"
   ]
  },
  {
   "cell_type": "code",
   "execution_count": null,
   "id": "88c9b8c3",
   "metadata": {},
   "outputs": [],
   "source": [
    "## Assignment 5\n",
    "\n",
    "## jawabannya seperti classes and objects question 4"
   ]
  },
  {
   "cell_type": "code",
   "execution_count": 1,
   "id": "3c894915",
   "metadata": {},
   "outputs": [
    {
     "name": "stdout",
     "output_type": "stream",
     "text": [
      "1300\n",
      "Balance cannot be set to negative.\n"
     ]
    }
   ],
   "source": [
    "## Assignment 6\n",
    "class BankAccount:\n",
    "    def __init__(self, account_number, balance=0):\n",
    "        self.__account_number = account_number\n",
    "        self.__balance = balance\n",
    "    \n",
    "    @property\n",
    "    def balance(self):\n",
    "        return self.__balance\n",
    "\n",
    "    @balance.setter\n",
    "    def balance(self, balance):\n",
    "        if balance < 0:\n",
    "            print(\"Balance cannot be set to negative.\")\n",
    "        else:\n",
    "            self.__balance = balance\n",
    "\n",
    "    def deposit(self, amount):\n",
    "        self.__balance += amount\n",
    "\n",
    "    def withdraw(self, amount):\n",
    "        if amount > self.__balance:\n",
    "            print(\"Insufficient balance!\")\n",
    "        else:\n",
    "            self.__balance -= amount\n",
    "\n",
    "# Test\n",
    "account = BankAccount('12345678', 1000)\n",
    "account.deposit(500)\n",
    "account.withdraw(200)\n",
    "print(account.balance)  # 1300\n",
    "account.balance = -500  # Balance cannot be negative!"
   ]
  },
  {
   "cell_type": "code",
   "execution_count": 3,
   "id": "b8fd3124",
   "metadata": {},
   "outputs": [
    {
     "name": "stdout",
     "output_type": "stream",
     "text": [
      "John 20 S123\n",
      "Alice 22 S123\n"
     ]
    }
   ],
   "source": [
    "## Assignment 7\n",
    "class Person:\n",
    "    def __init__(self, name, age):\n",
    "        self.__name = name\n",
    "        self.__age = age\n",
    "    \n",
    "    def get_name(self):\n",
    "        return self.__name\n",
    "    \n",
    "    def set_name(self, name):\n",
    "        self.__name = name\n",
    "    \n",
    "    def get_age(self):\n",
    "        return self.__age\n",
    "    \n",
    "    def set_age(self, age):\n",
    "        self.__age = age\n",
    "\n",
    "class Student(Person):\n",
    "    def __init__(self, name, age, student_id):\n",
    "        super().__init__(name, age)\n",
    "        self.student_id = student_id\n",
    "\n",
    "student = Student('John', 20, 'S123')\n",
    "print(student.get_name(), student.get_age(), student.student_id)\n",
    "student.set_name('Alice')\n",
    "student.set_age(22)\n",
    "print(student.get_name(), student.get_age(), student.student_id)"
   ]
  },
  {
   "cell_type": "code",
   "execution_count": null,
   "id": "95d26092",
   "metadata": {},
   "outputs": [],
   "source": [
    "## Assignment 8\n",
    "\n",
    "## jawabannya seperti inheritance question 14"
   ]
  },
  {
   "cell_type": "code",
   "execution_count": 5,
   "id": "7e643508",
   "metadata": {},
   "outputs": [
    {
     "name": "stdout",
     "output_type": "stream",
     "text": [
      "200\n",
      "100\n"
     ]
    }
   ],
   "source": [
    "## Assignment 9\n",
    "from abc import ABC, abstractmethod\n",
    "\n",
    "class Employee(ABC):\n",
    "    @abstractmethod\n",
    "    def calculate_salary(self):\n",
    "        pass\n",
    "\n",
    "class FullTimeEmployee(Employee):\n",
    "    def calculate_salary(self):\n",
    "        return 200\n",
    "\n",
    "class PartTimeEmployee(Employee):\n",
    "    def calculate_salary(self):\n",
    "        return 100\n",
    "\n",
    "full_time_employee = FullTimeEmployee()\n",
    "part_time_employee = PartTimeEmployee()\n",
    "\n",
    "print(full_time_employee.calculate_salary())\n",
    "print(part_time_employee.calculate_salary())"
   ]
  },
  {
   "cell_type": "code",
   "execution_count": 6,
   "id": "ac91cb38",
   "metadata": {},
   "outputs": [
    {
     "name": "stdout",
     "output_type": "stream",
     "text": [
      "P001 Laptop 1000\n",
      "Price cannot be negative!\n",
      "P001 Laptop 1500\n"
     ]
    }
   ],
   "source": [
    "## Assignment 10\n",
    "class Product:\n",
    "    def __init__(self, product_id, name, price):\n",
    "        self.__product_id = product_id\n",
    "        self.__name = name\n",
    "        self.__price = price\n",
    "\n",
    "    def get_product_id(self):\n",
    "        return self.__product_id\n",
    "\n",
    "    def get_name(self):\n",
    "        return self.__name\n",
    "\n",
    "    def get_price(self):\n",
    "        return self.__price\n",
    "\n",
    "    def set_product_id(self, product_id):\n",
    "        self.__product_id = product_id\n",
    "\n",
    "    def set_name(self, name):\n",
    "        self.__name = name\n",
    "\n",
    "    def set_price(self, price):\n",
    "        if price < 0:\n",
    "            print(\"Price cannot be negative!\")\n",
    "        else:\n",
    "            self.__price = price\n",
    "\n",
    "product = Product('P001', 'Laptop', 1000)\n",
    "print(product.get_product_id(), product.get_name(), product.get_price())\n",
    "product.set_price(-500)  # Price cannot be negative!\n",
    "product.set_price(1500)\n",
    "print(product.get_product_id(), product.get_name(), product.get_price())"
   ]
  },
  {
   "cell_type": "code",
   "execution_count": 7,
   "id": "a41f3366",
   "metadata": {},
   "outputs": [
    {
     "name": "stdout",
     "output_type": "stream",
     "text": [
      "Vector(4, 6)\n"
     ]
    }
   ],
   "source": [
    "## Assignment 11\n",
    "class Vector:\n",
    "    def __init__(self, x, y):\n",
    "        self.x = x\n",
    "        self.y = y\n",
    "    \n",
    "    def __add__(self, other):\n",
    "        return Vector(self.x + other.x, self.y + other.y)\n",
    "    \n",
    "    def __repr__(self):\n",
    "        return f\"Vector{self.x, self.y}\"\n",
    "\n",
    "v1 = Vector(1, 2)\n",
    "v2 = Vector(3, 4)\n",
    "print(v1 + v2)"
   ]
  },
  {
   "cell_type": "code",
   "execution_count": 8,
   "id": "d1c4c2c0",
   "metadata": {},
   "outputs": [
    {
     "name": "stdout",
     "output_type": "stream",
     "text": [
      "500W\n",
      "200W\n"
     ]
    }
   ],
   "source": [
    "## Assignment 12\n",
    "from abc import ABC, abstractmethod\n",
    "\n",
    "class Appliance(ABC):\n",
    "    @property\n",
    "    @abstractmethod\n",
    "    def power(self):\n",
    "        return self.power\n",
    "\n",
    "class WashingMachine(Appliance):\n",
    "    @property\n",
    "    def power(self):\n",
    "        return \"500W\"\n",
    "\n",
    "class Refrigerator(Appliance):\n",
    "    @property\n",
    "    def power(self):\n",
    "        return \"200W\"\n",
    "\n",
    "washing_machine = WashingMachine()\n",
    "refrigerator = Refrigerator()\n",
    "\n",
    "print(washing_machine.power)\n",
    "print(refrigerator.power)"
   ]
  },
  {
   "cell_type": "code",
   "execution_count": 10,
   "id": "0c1afc1e",
   "metadata": {},
   "outputs": [
    {
     "name": "stdout",
     "output_type": "stream",
     "text": [
      "12345678 1000 0.5\n",
      "Balance cannot be negative!\n",
      "12345678 1500 0.5\n"
     ]
    }
   ],
   "source": [
    "## Assignment 13\n",
    "class Account:\n",
    "    def __init__(self, account_number, balance=0):\n",
    "        self.__account_number = account_number\n",
    "        self.__balance = balance\n",
    "\n",
    "    def get_account_number(self):\n",
    "        return self.__account_number\n",
    "\n",
    "    def get_balance(self):\n",
    "        return self.__balance\n",
    "\n",
    "    def set_balance(self, balance):\n",
    "        if balance < 0:\n",
    "            print(\"Balance cannot be negative!\")\n",
    "        else:\n",
    "            self.__balance = balance\n",
    "\n",
    "class SavingsAccount(Account):\n",
    "    def __init__(self, account_number, balance, interest_rate):\n",
    "        super().__init__(account_number, balance)\n",
    "        self.interest_rate = interest_rate\n",
    "\n",
    "savings = SavingsAccount('12345678', 1000, 0.5)\n",
    "print(savings.get_account_number(), savings.get_balance(), savings.interest_rate)\n",
    "savings.set_balance(-30)\n",
    "savings.set_balance(1500)\n",
    "print(savings.get_account_number(), savings.get_balance(), savings.interest_rate)"
   ]
  },
  {
   "cell_type": "code",
   "execution_count": null,
   "id": "e5ae5284",
   "metadata": {},
   "outputs": [],
   "source": [
    "## Assignment 14\n",
    "\n",
    "## jawabannya seperti inheritance question 11"
   ]
  },
  {
   "cell_type": "code",
   "execution_count": 13,
   "id": "4c8e833e",
   "metadata": {},
   "outputs": [
    {
     "name": "stdout",
     "output_type": "stream",
     "text": [
      "Engineer is working.\n",
      "Doctor is working.\n"
     ]
    }
   ],
   "source": [
    "## Assignment 15\n",
    "from abc import ABC, abstractmethod\n",
    "\n",
    "class Worker(ABC):\n",
    "    @abstractmethod\n",
    "    def work(self):\n",
    "        pass\n",
    "\n",
    "class Engineer(Worker):\n",
    "    def work(self):\n",
    "        print(\"Engineer is working.\")\n",
    "\n",
    "class Doctor(Worker):\n",
    "    def work(self):\n",
    "        print(\"Doctor is working.\")\n",
    "\n",
    "class Scientist(Engineer, Doctor):\n",
    "    def work(self):\n",
    "        Engineer.work(self)\n",
    "        Doctor.work(self)\n",
    "\n",
    "scientist = Scientist()\n",
    "scientist.work()"
   ]
  }
 ],
 "metadata": {
  "kernelspec": {
   "display_name": "Python 3",
   "language": "python",
   "name": "python3"
  },
  "language_info": {
   "codemirror_mode": {
    "name": "ipython",
    "version": 3
   },
   "file_extension": ".py",
   "mimetype": "text/x-python",
   "name": "python",
   "nbconvert_exporter": "python",
   "pygments_lexer": "ipython3",
   "version": "3.12.0"
  }
 },
 "nbformat": 4,
 "nbformat_minor": 5
}
