{
 "cells": [
  {
   "cell_type": "markdown",
   "metadata": {},
   "source": [
    "# Module: File Handling Assignments\n",
    "## Lesson: File Handling and Operations\n",
    "### Assignment 1: Reading a File\n",
    "\n",
    "Write a function that reads the contents of a file named `sample.txt` and prints each line.\n",
    "\n",
    "### Assignment 2: Writing to a File\n",
    "\n",
    "Write a function that writes a list of strings to a file named `output.txt`, with each string on a new line.\n",
    "\n",
    "### Assignment 3: Copying a File\n",
    "\n",
    "Write a function that copies the contents of a file named `source.txt` to a new file named `destination.txt`.\n",
    "\n",
    "### Assignment 4: Appending to a File\n",
    "\n",
    "Write a function that appends a given string to the end of a file named `log.txt`.\n",
    "\n",
    "### Assignment 5: Counting Words in a File\n",
    "\n",
    "Write a function that reads the contents of a file named `document.txt` and returns the number of words in the file.\n",
    "\n",
    "### Assignment 6: Finding and Replacing Text\n",
    "\n",
    "Write a function that finds and replaces all occurrences of a given word in a file named `data.txt` with another word.\n",
    "\n",
    "### Assignment 7: Reading a File in Reverse\n",
    "\n",
    "Write a function that reads the contents of a file named `reverse.txt` and prints each line in reverse order.\n",
    "\n",
    "### Assignment 8: Counting Lines, Words, and Characters\n",
    "\n",
    "Write a function that reads the contents of a file named `stats.txt` and returns the number of lines, words, and characters in the file.\n",
    "\n",
    "### Assignment 9: Merging Multiple Files\n",
    "\n",
    "Write a function that merges the contents of multiple files into a single file named `merged.txt`.\n",
    "\n",
    "### Assignment 10: Splitting a Large File\n",
    "\n",
    "Write a function that splits a large file named `large.txt` into smaller files of 100 lines each.\n",
    "\n",
    "### Assignment 11: Creating a Log File\n",
    "\n",
    "Write a function that creates a log file named `activity.log` and writes log messages with timestamps.\n",
    "\n",
    "### Assignment 12: Binary File Operations\n",
    "\n",
    "Write a function that reads a binary file named `image.bin` and writes its contents to another binary file named `copy_image.bin`.\n",
    "\n",
    "### Assignment 13: CSV File Operations\n",
    "\n",
    "Write a function that reads a CSV file named `data.csv` and prints its contents as a list of dictionaries.\n",
    "\n",
    "### Assignment 14: JSON File Operations\n",
    "\n",
    "Write a function that reads a JSON file named `data.json` and prints its contents as a Python dictionary.\n",
    "\n",
    "### Assignment 15: File Permission Handling\n",
    "\n",
    "Write a function that attempts to read a file named `protected.txt` and handles any permission errors gracefully by printing an error message."
   ]
  },
  {
   "cell_type": "code",
   "execution_count": 4,
   "metadata": {},
   "outputs": [
    {
     "name": "stdout",
     "output_type": "stream",
     "text": [
      "Hello everyone\n",
      "How are you?\n",
      "My name is Andre\n",
      "I am a computer science student\n"
     ]
    }
   ],
   "source": [
    "## Assignment 1\n",
    "def read_file(filename):\n",
    "    with open(filename, \"r\") as file:\n",
    "        for line in file:\n",
    "            print(line.strip())\n",
    "\n",
    "read_file(\"sample.txt\")"
   ]
  },
  {
   "cell_type": "code",
   "execution_count": 6,
   "id": "6ca80871",
   "metadata": {},
   "outputs": [],
   "source": [
    "## Assignment 2\n",
    "def write_file(filename, lst):\n",
    "    with open(filename, \"w\") as file:\n",
    "        file.writelines(lst)\n",
    "\n",
    "lst = [\"Hello everyone\\n\", \"Good morning\\n\", \"How are you?\\n\"]\n",
    "write_file(\"output.txt\", lst)"
   ]
  },
  {
   "cell_type": "code",
   "execution_count": null,
   "id": "6145769a",
   "metadata": {},
   "outputs": [],
   "source": [
    "## Assignment 3\n",
    "def copy_from_src_to_dest(src, dest):\n",
    "    # with open(src, 'r') as source_file:\n",
    "    #     with open(dest, 'w') as destination_file:\n",
    "    #         destination_file.write(source_file.read())\n",
    "\n",
    "    with open(src, \"r\") as source_file:\n",
    "        content = source_file.read()\n",
    "    \n",
    "    with open(dest, \"w\") as destination_file:\n",
    "        destination_file.write(content)\n",
    "\n",
    "copy_from_src_to_dest(\"source.txt\", \"destination.txt\")"
   ]
  },
  {
   "cell_type": "code",
   "execution_count": 8,
   "id": "fa60d4d7",
   "metadata": {},
   "outputs": [],
   "source": [
    "## Assignment 4\n",
    "def append_to_log(filename, sentence):\n",
    "    with open(filename, \"a\") as log_file:\n",
    "        log_file.write(sentence)\n",
    "\n",
    "append_to_log(\"log.txt\", \"My name is Andre.\\n\")\n",
    "append_to_log(\"log.txt\", \"I am 19 years old.\\n\")"
   ]
  },
  {
   "cell_type": "code",
   "execution_count": 9,
   "id": "a43b7713",
   "metadata": {},
   "outputs": [
    {
     "name": "stdout",
     "output_type": "stream",
     "text": [
      "9\n"
     ]
    }
   ],
   "source": [
    "## Assignment 5\n",
    "def count_word_in_file(filename):\n",
    "    word_count = 0\n",
    "    with open(filename, \"r\") as file:\n",
    "        lines = file.readlines()\n",
    "        word_count = sum(len(line.split()) for line in lines)\n",
    "\n",
    "    return word_count\n",
    "\n",
    "print(count_word_in_file(\"document.txt\"))"
   ]
  },
  {
   "cell_type": "code",
   "execution_count": 12,
   "id": "f5220124",
   "metadata": {},
   "outputs": [],
   "source": [
    "## Assignment 6\n",
    "def find_and_replace(filename, old_word, new_word):\n",
    "    with open(filename, \"r\") as file:\n",
    "        text = file.read()\n",
    "    new_text = text.replace(old_word, new_word)\n",
    "    with open(filename, \"w\") as file:\n",
    "        file.write(new_text)\n",
    "\n",
    "find_and_replace(\"data.txt\", \"Andre\", \"Endriano\")"
   ]
  },
  {
   "cell_type": "code",
   "execution_count": 15,
   "id": "a66e3a30",
   "metadata": {},
   "outputs": [
    {
     "name": "stdout",
     "output_type": "stream",
     "text": [
      "I am a computer science student in USU\n",
      "My name is Andre\n"
     ]
    }
   ],
   "source": [
    "## Assignment 7\n",
    "def read_reverse(filename):\n",
    "    with open(filename, \"r\") as file:\n",
    "        lines = file.readlines()\n",
    "    for line in reversed(lines):\n",
    "        print(line.strip())\n",
    "\n",
    "read_reverse(\"reverse.txt\")"
   ]
  },
  {
   "cell_type": "code",
   "execution_count": 18,
   "id": "108dbaab",
   "metadata": {},
   "outputs": [
    {
     "name": "stdout",
     "output_type": "stream",
     "text": [
      "(2, 12, 55)\n",
      "2\n",
      "12\n",
      "55\n"
     ]
    }
   ],
   "source": [
    "## Assignment 8\n",
    "def count(filename):\n",
    "    line_count, word_count, char_count = 0, 0, 0\n",
    "    with open(filename, \"r\") as file:\n",
    "        lines = file.readlines()\n",
    "        line_count = len(lines)\n",
    "        word_count = sum(len(line.split()) for line in lines)\n",
    "        char_count = sum(len(line) for line in lines)\n",
    "\n",
    "    return line_count, word_count, char_count\n",
    "\n",
    "line_count, word_count, char_count = count(\"stats.txt\")\n",
    "print(count(\"stats.txt\"))\n",
    "print(line_count)\n",
    "print(word_count)\n",
    "print(char_count)"
   ]
  },
  {
   "cell_type": "code",
   "execution_count": null,
   "id": "68624b17",
   "metadata": {},
   "outputs": [],
   "source": [
    "## Assignment 9 (1)\n",
    "def merge_file_content(src1, src2, dst):\n",
    "    with open(src1, \"r\") as source_file_1:\n",
    "        with open(dst, \"a\") as destination_file:\n",
    "            destination_file.write(source_file_1.read())\n",
    "\n",
    "    with open(src2, \"r\") as source_file_2:\n",
    "        with open(dst, \"a\") as destination_file:\n",
    "            destination_file.write(\"\\n\")\n",
    "            destination_file.write(source_file_2.read())\n",
    "\n",
    "merge_file_content(\"data.txt\", \"stats.txt\", \"merged.txt\")"
   ]
  },
  {
   "cell_type": "code",
   "execution_count": 23,
   "id": "1ac7b37c",
   "metadata": {},
   "outputs": [],
   "source": [
    "## Assignment 9 (2)\n",
    "def merge_file_content(lst_of_files, dst):\n",
    "    with open(dst, \"w\") as destination_file:\n",
    "        for file in lst_of_files:\n",
    "            with open(file, \"r\") as source_file:\n",
    "                destination_file.write(source_file.read() + \"\\n\")\n",
    "\n",
    "merge_file_content([\"data.txt\", \"stats.txt\"], \"merged.txt\")"
   ]
  },
  {
   "cell_type": "code",
   "execution_count": 26,
   "id": "e9ea22bc",
   "metadata": {},
   "outputs": [],
   "source": [
    "## Assignment 10\n",
    "def split_file(filename, lines_per_file):\n",
    "    with open(filename, \"r\") as file:\n",
    "        lines = file.readlines()\n",
    "    for i in range(0, len(lines), lines_per_file):\n",
    "        with open(f\"{filename}_part{i // lines_per_file + 1}.txt\", \"w\") as part_file:\n",
    "            part_file.writelines(lines[i:i+lines_per_file])\n",
    "\n",
    "split_file(\"large.txt\", 100)"
   ]
  },
  {
   "cell_type": "code",
   "execution_count": 1,
   "id": "10a69258",
   "metadata": {},
   "outputs": [],
   "source": [
    "## Assignment 11\n",
    "import datetime\n",
    "\n",
    "def log_message(message, filename=\"activity.log\"):\n",
    "    timestamp = datetime.datetime.now().isoformat()\n",
    "    with open(filename, \"a\") as file:\n",
    "        file.write(f\"[{timestamp}] {message} \\n\")\n",
    "\n",
    "log_message(\"This is a log message\")"
   ]
  },
  {
   "cell_type": "code",
   "execution_count": 2,
   "id": "2e14de03",
   "metadata": {},
   "outputs": [],
   "source": [
    "## Assignment 12\n",
    "def copy_bin_file(src, dst):\n",
    "    with open(src, \"rb\") as source_file:\n",
    "        with open(dst, \"wb\") as destination_file:\n",
    "            destination_file.write(source_file.read())\n",
    "\n",
    "copy_bin_file(\"image.bin\", \"copy_image.bin\")"
   ]
  },
  {
   "cell_type": "code",
   "execution_count": 3,
   "id": "b451ba60",
   "metadata": {},
   "outputs": [
    {
     "data": {
      "text/plain": [
       "[{'name': 'Andre', 'age': '19'},\n",
       " {'name': 'Endriano', 'age': '19'},\n",
       " {'name': 'Alya', 'age': '20'}]"
      ]
     },
     "execution_count": 3,
     "metadata": {},
     "output_type": "execute_result"
    }
   ],
   "source": [
    "## Assignment 13\n",
    "import csv\n",
    "\n",
    "def read_csv_as_dict(filename):\n",
    "    with open(filename, \"r\") as file:\n",
    "        reader = csv.DictReader(file)\n",
    "        return list(reader)\n",
    "\n",
    "read_csv_as_dict(\"data.csv\")"
   ]
  },
  {
   "cell_type": "code",
   "execution_count": 4,
   "id": "b61aefb5",
   "metadata": {},
   "outputs": [
    {
     "data": {
      "text/plain": [
       "{'name': 'Andre', 'age': 19}"
      ]
     },
     "execution_count": 4,
     "metadata": {},
     "output_type": "execute_result"
    }
   ],
   "source": [
    "## Assignment 14\n",
    "import json\n",
    "\n",
    "def read_json(filename):\n",
    "    with open(filename, \"r\") as file:\n",
    "        # json.loads(file.read()) digunakan ketika punya json dalam bentuk string atau ingin ubah (filter) string dulu\n",
    "        data = json.load(file)\n",
    "        return data\n",
    "\n",
    "read_json(\"data.json\")"
   ]
  },
  {
   "cell_type": "code",
   "execution_count": 6,
   "id": "0ee8a47a",
   "metadata": {},
   "outputs": [
    {
     "name": "stdout",
     "output_type": "stream",
     "text": [
      "Permission Error: You do not have access to this file.\n"
     ]
    }
   ],
   "source": [
    "## Assignment 15\n",
    "def read_protected_file(filename):\n",
    "    try:\n",
    "        raise PermissionError(\"You do not have access to this file.\")\n",
    "        with open(filename, \"r\") as file:\n",
    "            print(file.read())\n",
    "    except PermissionError as e:\n",
    "        print(f\"Permission Error: {e}\")\n",
    "\n",
    "read_protected_file(\"protected.txt\")"
   ]
  }
 ],
 "metadata": {
  "kernelspec": {
   "display_name": "Python 3",
   "language": "python",
   "name": "python3"
  },
  "language_info": {
   "codemirror_mode": {
    "name": "ipython",
    "version": 3
   },
   "file_extension": ".py",
   "mimetype": "text/x-python",
   "name": "python",
   "nbconvert_exporter": "python",
   "pygments_lexer": "ipython3",
   "version": "3.12.0"
  }
 },
 "nbformat": 4,
 "nbformat_minor": 5
}
