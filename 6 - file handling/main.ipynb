{
 "cells": [
  {
   "cell_type": "markdown",
   "id": "3657993e",
   "metadata": {},
   "source": [
    "# Text Files"
   ]
  },
  {
   "cell_type": "markdown",
   "id": "355b7b5e",
   "metadata": {},
   "source": [
    "## Reading File"
   ]
  },
  {
   "cell_type": "code",
   "execution_count": 2,
   "id": "86faa2f1",
   "metadata": {},
   "outputs": [
    {
     "name": "stdout",
     "output_type": "stream",
     "text": [
      "How are you?\n",
      "I am good\n",
      "My name is Andre\n",
      "Welcome to the course\n"
     ]
    }
   ],
   "source": [
    "with open(\"example.txt\", \"r\") as file:\n",
    "    content = file.read()\n",
    "    print(content)"
   ]
  },
  {
   "cell_type": "code",
   "execution_count": null,
   "id": "03ebc25e",
   "metadata": {},
   "outputs": [
    {
     "name": "stdout",
     "output_type": "stream",
     "text": [
      "How are you?\n",
      "I am good\n",
      "My name is Andre\n",
      "Welcome to the course\n"
     ]
    }
   ],
   "source": [
    "## Read a file line by line\n",
    "with open(\"example.txt\", \"r\") as file:\n",
    "    for line in file:\n",
    "        print(line.strip()) ## strip() removes the newline character"
   ]
  },
  {
   "cell_type": "markdown",
   "id": "1a4e08aa",
   "metadata": {},
   "source": [
    "## Writing File"
   ]
  },
  {
   "cell_type": "code",
   "execution_count": 5,
   "id": "79ab1f31",
   "metadata": {},
   "outputs": [],
   "source": [
    "## Overwriting\n",
    "with open(\"example.txt\", \"w\") as file:\n",
    "    file.write(\"Hello World\\n\")\n",
    "    file.write(\"This is a new line.\")"
   ]
  },
  {
   "cell_type": "code",
   "execution_count": 6,
   "id": "765aadd6",
   "metadata": {},
   "outputs": [],
   "source": [
    "## Without Overwriting\n",
    "with open(\"example.txt\", \"a\") as file:\n",
    "    file.write(\"\\nAppend operation taking place!\")"
   ]
  },
  {
   "cell_type": "code",
   "execution_count": 8,
   "id": "15102df7",
   "metadata": {},
   "outputs": [],
   "source": [
    "## Writing a list of lines to a file\n",
    "lines = [\"\\nFirst Line\\n\", \"Second Line\\n\", \"Third Line\\n\"]\n",
    "\n",
    "with open(\"example.txt\", \"a\") as file:\n",
    "    file.writelines(lines)"
   ]
  },
  {
   "cell_type": "markdown",
   "id": "b3a019b6",
   "metadata": {},
   "source": [
    "# Binary Files"
   ]
  },
  {
   "cell_type": "code",
   "execution_count": 9,
   "id": "7d7f6be9",
   "metadata": {},
   "outputs": [],
   "source": [
    "## Writing to a binary file\n",
    "data = b\"\\x00\\x01\\x02\\x03\\x04\"\n",
    "with open(\"example.bin\", \"wb\") as file:\n",
    "    file.write(data)"
   ]
  },
  {
   "cell_type": "code",
   "execution_count": 10,
   "id": "407a6c68",
   "metadata": {},
   "outputs": [
    {
     "name": "stdout",
     "output_type": "stream",
     "text": [
      "b'\\x00\\x01\\x02\\x03\\x04'\n"
     ]
    }
   ],
   "source": [
    "## Reading a binary file\n",
    "with open(\"example.bin\", \"rb\") as file:\n",
    "    content = file.read()\n",
    "    print(content)"
   ]
  },
  {
   "cell_type": "markdown",
   "id": "2b1a3551",
   "metadata": {},
   "source": [
    "# Example"
   ]
  },
  {
   "cell_type": "markdown",
   "id": "33eb5a04",
   "metadata": {},
   "source": [
    "Read the content from a source text file and write to a destination text file."
   ]
  },
  {
   "cell_type": "code",
   "execution_count": 11,
   "id": "37f255ec",
   "metadata": {},
   "outputs": [],
   "source": [
    "with open(\"source.txt\", \"r\") as source_file:\n",
    "    content = source_file.read()\n",
    "\n",
    "with open(\"destination.txt\", \"w\") as destination_file:\n",
    "    destination_file.write(content)"
   ]
  },
  {
   "cell_type": "markdown",
   "id": "a598644d",
   "metadata": {},
   "source": [
    "Read a text file and count the number of lines, words, and characters."
   ]
  },
  {
   "cell_type": "code",
   "execution_count": 12,
   "id": "e75cc1a4",
   "metadata": {},
   "outputs": [
    {
     "name": "stdout",
     "output_type": "stream",
     "text": [
      "Lines: 3\n",
      "Words: 12\n",
      "Characters: 72\n"
     ]
    }
   ],
   "source": [
    "def count_text_file(file_path):\n",
    "    line_count, word_count, character_count = 0, 0, 0\n",
    "    with open(file_path, \"r\") as source_file:\n",
    "        lines = source_file.readlines()\n",
    "        line_count = len(lines)\n",
    "        word_count = sum(len(line.split()) for line in lines)\n",
    "        character_count = sum(len(line) for line in lines)\n",
    "    \n",
    "    return line_count, word_count, character_count\n",
    "\n",
    "file_path = \"source.txt\"\n",
    "lines, words, characters = count_text_file(file_path)\n",
    "print(f\"Lines: {lines}\")\n",
    "print(f\"Words: {words}\")\n",
    "print(f\"Characters: {characters}\")"
   ]
  },
  {
   "cell_type": "markdown",
   "id": "bff3dd0c",
   "metadata": {},
   "source": [
    "Writing and then reading a file."
   ]
  },
  {
   "cell_type": "code",
   "execution_count": 20,
   "id": "9fbe2beb",
   "metadata": {},
   "outputs": [
    {
     "name": "stdout",
     "output_type": "stream",
     "text": [
      "Hello World!\n",
      "This is a new line.\n",
      "\n"
     ]
    }
   ],
   "source": [
    "with open(\"example.txt\", \"w+\") as file:\n",
    "    file.write(\"Hello World!\\n\")\n",
    "    file.write(\"This is a new line.\\n\")\n",
    "\n",
    "    ## Move the file cursor to the beginning\n",
    "    file.seek(0)\n",
    "\n",
    "    ## Read the content of the file\n",
    "    content = file.read()\n",
    "    print(content)"
   ]
  },
  {
   "cell_type": "markdown",
   "id": "e92f6109",
   "metadata": {},
   "source": [
    "# File Path"
   ]
  },
  {
   "cell_type": "code",
   "execution_count": 21,
   "id": "f40d44b0",
   "metadata": {},
   "outputs": [
    {
     "name": "stdout",
     "output_type": "stream",
     "text": [
      "Directory 'package' is created.\n"
     ]
    }
   ],
   "source": [
    "## Create a new directory\n",
    "import os\n",
    "\n",
    "new_directory = \"package\"\n",
    "os.mkdir(new_directory)\n",
    "\n",
    "print(f\"Directory '{new_directory}' is created.\")"
   ]
  },
  {
   "cell_type": "code",
   "execution_count": 22,
   "id": "4dba2d4a",
   "metadata": {},
   "outputs": [
    {
     "name": "stdout",
     "output_type": "stream",
     "text": [
      "['destination.txt', 'example.bin', 'example.txt', 'filehandlingquestions.ipynb', 'filehandlingsolution.ipynb', 'main.ipynb', 'package', 'source.txt']\n"
     ]
    }
   ],
   "source": [
    "## Listing files and directories\n",
    "items = os.listdir(\".\")\n",
    "\n",
    "print(items)"
   ]
  },
  {
   "cell_type": "code",
   "execution_count": 23,
   "id": "ae700910",
   "metadata": {},
   "outputs": [
    {
     "name": "stdout",
     "output_type": "stream",
     "text": [
      "folder\\file.txt\n"
     ]
    }
   ],
   "source": [
    "## Joining paths\n",
    "dir_name = \"folder\"\n",
    "file_name = \"file.txt\"\n",
    "full_path = os.path.join(dir_name, file_name)\n",
    "\n",
    "print(full_path)"
   ]
  },
  {
   "cell_type": "code",
   "execution_count": 25,
   "id": "8a101d03",
   "metadata": {},
   "outputs": [
    {
     "name": "stdout",
     "output_type": "stream",
     "text": [
      "d:\\ML Bootcamp\\6 - file handling\\folder\\file.txt\n"
     ]
    }
   ],
   "source": [
    "dir_name = \"folder\"\n",
    "file_name = \"file.txt\"\n",
    "full_path = os.path.join(os.getcwd(), dir_name, file_name)\n",
    "\n",
    "print(full_path)"
   ]
  },
  {
   "cell_type": "code",
   "execution_count": 26,
   "id": "db9fcbf6",
   "metadata": {},
   "outputs": [
    {
     "name": "stdout",
     "output_type": "stream",
     "text": [
      "The path 'example1.txt' does not exists.\n"
     ]
    }
   ],
   "source": [
    "path = \"example1.txt\"\n",
    "\n",
    "if os.path.exists(path):\n",
    "    print(f\"The path '{path}' exists.\")\n",
    "else:\n",
    "    print(f\"The path '{path}' does not exists.\")"
   ]
  },
  {
   "cell_type": "code",
   "execution_count": 27,
   "id": "4046650d",
   "metadata": {},
   "outputs": [
    {
     "name": "stdout",
     "output_type": "stream",
     "text": [
      "The path 'example.txt' is a file.\n"
     ]
    }
   ],
   "source": [
    "## Checking if a path is a file or directory\n",
    "path = \"example.txt\"\n",
    "if os.path.isfile(path):\n",
    "    print(f\"The path '{path}' is a file.\")\n",
    "elif os.path.isdir(path):\n",
    "    print(f\"The path '{path}' is a directory.\")\n",
    "else:\n",
    "    print(f\"The path '{path}' is neither a file nor a directory.\")"
   ]
  },
  {
   "cell_type": "code",
   "execution_count": 29,
   "id": "e2fc9d2c",
   "metadata": {},
   "outputs": [
    {
     "name": "stdout",
     "output_type": "stream",
     "text": [
      "The path 'package' is a directory.\n"
     ]
    }
   ],
   "source": [
    "path = \"package\"\n",
    "if os.path.isfile(path):\n",
    "    print(f\"The path '{path}' is a file.\")\n",
    "elif os.path.isdir(path):\n",
    "    print(f\"The path '{path}' is a directory.\")\n",
    "else:\n",
    "    print(f\"The path '{path}' is neither a file nor a directory.\")"
   ]
  },
  {
   "cell_type": "code",
   "execution_count": 30,
   "id": "19e56bfc",
   "metadata": {},
   "outputs": [
    {
     "name": "stdout",
     "output_type": "stream",
     "text": [
      "The path 'does_not_exist' is neither a file nor a directory.\n"
     ]
    }
   ],
   "source": [
    "path = \"does_not_exist\"\n",
    "if os.path.isfile(path):\n",
    "    print(f\"The path '{path}' is a file.\")\n",
    "elif os.path.isdir(path):\n",
    "    print(f\"The path '{path}' is a directory.\")\n",
    "else:\n",
    "    print(f\"The path '{path}' is neither a file nor a directory.\")"
   ]
  },
  {
   "cell_type": "code",
   "execution_count": 28,
   "id": "fce62e9d",
   "metadata": {},
   "outputs": [
    {
     "name": "stdout",
     "output_type": "stream",
     "text": [
      "d:\\ML Bootcamp\\6 - file handling\\example.txt\n"
     ]
    }
   ],
   "source": [
    "## Getting the absolute path\n",
    "relative_path = \"example.txt\"\n",
    "absolute_path = os.path.abspath(relative_path)\n",
    "\n",
    "print(absolute_path)"
   ]
  }
 ],
 "metadata": {
  "kernelspec": {
   "display_name": "Python 3",
   "language": "python",
   "name": "python3"
  },
  "language_info": {
   "codemirror_mode": {
    "name": "ipython",
    "version": 3
   },
   "file_extension": ".py",
   "mimetype": "text/x-python",
   "name": "python",
   "nbconvert_exporter": "python",
   "pygments_lexer": "ipython3",
   "version": "3.12.0"
  }
 },
 "nbformat": 4,
 "nbformat_minor": 5
}
