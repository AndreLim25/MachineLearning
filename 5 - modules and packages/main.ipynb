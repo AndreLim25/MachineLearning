{
 "cells": [
  {
   "cell_type": "markdown",
   "id": "d3ee18f1",
   "metadata": {},
   "source": [
    "# Modules and Packages"
   ]
  },
  {
   "cell_type": "code",
   "execution_count": 9,
   "id": "f359f348",
   "metadata": {},
   "outputs": [
    {
     "name": "stdout",
     "output_type": "stream",
     "text": [
      "4.0 <class 'float'>\n"
     ]
    }
   ],
   "source": [
    "import math\n",
    "\n",
    "print(math.sqrt(16), type(math.sqrt(16)))"
   ]
  },
  {
   "cell_type": "code",
   "execution_count": 10,
   "id": "bd924814",
   "metadata": {},
   "outputs": [
    {
     "name": "stdout",
     "output_type": "stream",
     "text": [
      "5.0\n",
      "6.0\n",
      "3.141592653589793\n"
     ]
    }
   ],
   "source": [
    "from math import sqrt, pi\n",
    "\n",
    "print(sqrt(25))\n",
    "print(sqrt(36))\n",
    "print(pi)"
   ]
  },
  {
   "cell_type": "code",
   "execution_count": 11,
   "id": "8ef2838b",
   "metadata": {},
   "outputs": [
    {
     "data": {
      "text/plain": [
       "array([1, 2, 3, 4])"
      ]
     },
     "execution_count": 11,
     "metadata": {},
     "output_type": "execute_result"
    }
   ],
   "source": [
    "import numpy as np\n",
    "\n",
    "np.array([1, 2, 3, 4])"
   ]
  },
  {
   "cell_type": "code",
   "execution_count": 13,
   "id": "9cdfa27f",
   "metadata": {},
   "outputs": [
    {
     "name": "stdout",
     "output_type": "stream",
     "text": [
      "4.0\n",
      "3.141592653589793\n",
      "8.0\n"
     ]
    }
   ],
   "source": [
    "from math import * ## import all functions that are available in math\n",
    "\n",
    "print(sqrt(16))\n",
    "print(pi)\n",
    "print(pow(2, 3))"
   ]
  },
  {
   "cell_type": "code",
   "execution_count": 14,
   "id": "1c1245d2",
   "metadata": {},
   "outputs": [
    {
     "data": {
      "text/plain": [
       "7"
      ]
     },
     "execution_count": 14,
     "metadata": {},
     "output_type": "execute_result"
    }
   ],
   "source": [
    "## import custom package\n",
    "from package.custom_package import addition\n",
    "\n",
    "addition(3, 4)"
   ]
  },
  {
   "cell_type": "code",
   "execution_count": 15,
   "id": "00478212",
   "metadata": {},
   "outputs": [
    {
     "data": {
      "text/plain": [
       "7"
      ]
     },
     "execution_count": 15,
     "metadata": {},
     "output_type": "execute_result"
    }
   ],
   "source": [
    "from package import custom_package\n",
    "\n",
    "custom_package.addition(3, 4)"
   ]
  },
  {
   "cell_type": "code",
   "execution_count": 18,
   "id": "ce3bffdd",
   "metadata": {},
   "outputs": [
    {
     "data": {
      "text/plain": [
       "16"
      ]
     },
     "execution_count": 18,
     "metadata": {},
     "output_type": "execute_result"
    }
   ],
   "source": [
    "from package.sub_package.square import *\n",
    "\n",
    "square(4)"
   ]
  },
  {
   "cell_type": "code",
   "execution_count": 19,
   "id": "850251f0",
   "metadata": {},
   "outputs": [
    {
     "data": {
      "text/plain": [
       "25"
      ]
     },
     "execution_count": 19,
     "metadata": {},
     "output_type": "execute_result"
    }
   ],
   "source": [
    "from package.sub_package import square\n",
    "\n",
    "square.square(5)"
   ]
  },
  {
   "cell_type": "markdown",
   "id": "50725862",
   "metadata": {},
   "source": [
    "## Standard Library Overview"
   ]
  },
  {
   "cell_type": "code",
   "execution_count": 20,
   "id": "33a1bee1",
   "metadata": {},
   "outputs": [
    {
     "name": "stdout",
     "output_type": "stream",
     "text": [
      "array('i', [1, 2, 3, 4])\n"
     ]
    }
   ],
   "source": [
    "import array\n",
    "\n",
    "arr = array.array(\"i\", [1, 2, 3, 4])\n",
    "\n",
    "print(arr)"
   ]
  },
  {
   "cell_type": "code",
   "execution_count": 21,
   "id": "4704070a",
   "metadata": {},
   "outputs": [
    {
     "name": "stdout",
     "output_type": "stream",
     "text": [
      "10.0\n",
      "3.141592653589793\n"
     ]
    }
   ],
   "source": [
    "import math\n",
    "\n",
    "print(math.sqrt(100))\n",
    "print(math.pi)"
   ]
  },
  {
   "cell_type": "code",
   "execution_count": 23,
   "id": "85353343",
   "metadata": {},
   "outputs": [
    {
     "name": "stdout",
     "output_type": "stream",
     "text": [
      "4\n",
      "apple\n"
     ]
    }
   ],
   "source": [
    "import random\n",
    "\n",
    "print(random.randint(1, 10))\n",
    "print(random.choice([\"apple\", \"banana\", \"cherry\"]))"
   ]
  },
  {
   "cell_type": "code",
   "execution_count": 24,
   "id": "a7ad84c4",
   "metadata": {},
   "outputs": [
    {
     "name": "stdout",
     "output_type": "stream",
     "text": [
      "d:\\ML Bootcamp\\5 - modules and packages\n"
     ]
    }
   ],
   "source": [
    "## File and Directory Access\n",
    "import os\n",
    "\n",
    "print(os.getcwd())"
   ]
  },
  {
   "cell_type": "code",
   "execution_count": 25,
   "id": "ec3616d3",
   "metadata": {},
   "outputs": [
    {
     "data": {
      "text/plain": [
       "'destionation.txt'"
      ]
     },
     "execution_count": 25,
     "metadata": {},
     "output_type": "execute_result"
    }
   ],
   "source": [
    "## High level operations on files and collection of files\n",
    "import shutil\n",
    "\n",
    "shutil.copyfile(\"source.txt\", \"destionation.txt\")"
   ]
  },
  {
   "cell_type": "code",
   "execution_count": 26,
   "id": "cd93de5a",
   "metadata": {},
   "outputs": [
    {
     "name": "stdout",
     "output_type": "stream",
     "text": [
      "{\"name\": \"Andre\", \"age\": 19}\n",
      "<class 'str'>\n",
      "{'name': 'Andre', 'age': 19}\n",
      "<class 'dict'>\n"
     ]
    }
   ],
   "source": [
    "## Data Serialization\n",
    "import json\n",
    "\n",
    "data = {\n",
    "    \"name\": \"Andre\",\n",
    "    \"age\": 19\n",
    "}\n",
    "\n",
    "json_str = json.dumps(data)\n",
    "print(json_str)\n",
    "print(type(json_str))\n",
    "\n",
    "parsed_data = json.loads(json_str)\n",
    "print(parsed_data)\n",
    "print(type(parsed_data))"
   ]
  },
  {
   "cell_type": "code",
   "execution_count": 32,
   "id": "a25b85a6",
   "metadata": {},
   "outputs": [
    {
     "name": "stdout",
     "output_type": "stream",
     "text": [
      "['name', 'age']\n",
      "['Andre', '19']\n"
     ]
    }
   ],
   "source": [
    "## csv\n",
    "import csv\n",
    "\n",
    "with open(\"example.csv\", mode=\"w\", newline=\"\") as file:\n",
    "    writer = csv.writer(file)\n",
    "    writer.writerow([\"name\", \"age\"])\n",
    "    writer.writerow([\"Andre\", 19])\n",
    "\n",
    "with open(\"example.csv\", mode=\"r\") as file:\n",
    "    reader = csv.reader(file)\n",
    "    for row in reader:\n",
    "        print(row)"
   ]
  },
  {
   "cell_type": "code",
   "execution_count": 34,
   "id": "290a24de",
   "metadata": {},
   "outputs": [
    {
     "name": "stdout",
     "output_type": "stream",
     "text": [
      "2025-07-02 16:34:16.220785\n",
      "2025-07-01 16:34:16.220785\n"
     ]
    }
   ],
   "source": [
    "## datetime\n",
    "from datetime import datetime, timedelta\n",
    "\n",
    "now = datetime.now()\n",
    "print(now)\n",
    "\n",
    "yesterday = now - timedelta(days=1)\n",
    "print(yesterday)"
   ]
  },
  {
   "cell_type": "code",
   "execution_count": 35,
   "id": "fc0da205",
   "metadata": {},
   "outputs": [
    {
     "name": "stdout",
     "output_type": "stream",
     "text": [
      "1751448919.6935732\n",
      "1751448921.693804\n"
     ]
    }
   ],
   "source": [
    "## time\n",
    "import time\n",
    "\n",
    "print(time.time())\n",
    "time.sleep(2)\n",
    "print(time.time())"
   ]
  },
  {
   "cell_type": "code",
   "execution_count": 37,
   "id": "e75ca6c2",
   "metadata": {},
   "outputs": [
    {
     "name": "stdout",
     "output_type": "stream",
     "text": [
      "123\n"
     ]
    }
   ],
   "source": [
    "## Regular Expression\n",
    "import re\n",
    "\n",
    "pattern = r\"\\d+\"\n",
    "text = \"There are 123 apples 456\"\n",
    "match = re.search(pattern, text)\n",
    "\n",
    "print(match.group())"
   ]
  }
 ],
 "metadata": {
  "kernelspec": {
   "display_name": "Python 3",
   "language": "python",
   "name": "python3"
  },
  "language_info": {
   "codemirror_mode": {
    "name": "ipython",
    "version": 3
   },
   "file_extension": ".py",
   "mimetype": "text/x-python",
   "name": "python",
   "nbconvert_exporter": "python",
   "pygments_lexer": "ipython3",
   "version": "3.12.0"
  }
 },
 "nbformat": 4,
 "nbformat_minor": 5
}
