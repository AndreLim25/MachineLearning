{
 "cells": [
  {
   "cell_type": "markdown",
   "metadata": {},
   "source": [
    "# Module 5: Modules and Packages Assignments\n",
    "## Lesson 5.1: Importing Modules\n",
    "### Assignment 1: Importing and Using Modules\n",
    "\n",
    "Import the `math` module and use it to calculate the square root of 25 and the sine of 90 degrees.\n",
    "\n",
    "### Assignment 2: Aliasing Modules\n",
    "\n",
    "Import the `datetime` module with an alias and use it to print the current date and time.\n",
    "\n",
    "### Assignment 3: Importing Specific Functions\n",
    "\n",
    "Import the `randint` function from the `random` module and use it to generate a random integer between 1 and 100.\n",
    "\n",
    "### Assignment 4: Importing Multiple Functions\n",
    "\n",
    "Import the `sqrt` and `pow` functions from the `math` module and use them to calculate the square root of 16 and 2 raised to the power of 3.\n",
    "\n",
    "### Assignment 5: Handling Import Errors\n",
    "\n",
    "Write code that attempts to import a non-existent module and gracefully handles the import error by printing an error message.\n",
    "\n",
    "## Lesson 5.2: Standard Library Overview\n",
    "### Assignment 6: Working with the `os` Module\n",
    "\n",
    "Use the `os` module to create a new directory, list the contents of the current directory, and remove the newly created directory.\n",
    "\n",
    "### Assignment 7: Working with the `sys` Module\n",
    "\n",
    "Use the `sys` module to print the Python version currently in use and the command-line arguments passed to the script.\n",
    "\n",
    "### Assignment 8: Working with the `math` Module\n",
    "\n",
    "Use the `math` module to calculate the greatest common divisor (GCD) of two numbers and the factorial of a number.\n",
    "\n",
    "### Assignment 9: Working with the `datetime` Module\n",
    "\n",
    "Use the `datetime` module to print the current date, calculate the date 100 days from today, and determine the day of the week for a given date.\n",
    "\n",
    "### Assignment 10: Working with the `random` Module\n",
    "\n",
    "Use the `random` module to generate a list of 5 random numbers between 1 and 50 and shuffle the elements of a list.\n",
    "\n",
    "## Lesson 5.3: Creating and Using Packages\n",
    "### Assignment 11: Creating a Simple Package\n",
    "\n",
    "Create a package named `mypackage` with two modules: `module1` and `module2`. `module1` should contain a function that adds two numbers, and `module2` should contain a function that multiplies two numbers. Write code to use these functions.\n",
    "\n",
    "### Assignment 12: Using `__init__.py`\n",
    "\n",
    "Modify the `mypackage` package to include an `__init__.py` file that imports the functions from `module1` and `module2`. Write code to use these functions.\n",
    "\n",
    "### Assignment 13: Importing from a Package\n",
    "\n",
    "Write code to import and use the functions from `mypackage` without explicitly importing `module1` and `module2`.\n",
    "\n",
    "### Assignment 14: Relative Imports\n",
    "\n",
    "Create a subpackage named `subpackage` within `mypackage` and move `module2` into `subpackage`. Modify the import statements in `__init__.py` to use relative imports. Write code to use the functions from both modules.\n",
    "\n",
    "### Assignment 15: Handling Package Import Errors\n",
    "\n",
    "Write code that attempts to import a non-existent function from `mypackage` and gracefully handles the import error by printing an error message."
   ]
  },
  {
   "cell_type": "code",
   "execution_count": 2,
   "metadata": {},
   "outputs": [
    {
     "name": "stdout",
     "output_type": "stream",
     "text": [
      "5.0\n",
      "1.0\n"
     ]
    }
   ],
   "source": [
    "## Assignment 1\n",
    "import math\n",
    "\n",
    "print(math.sqrt(25))\n",
    "print(math.sin(math.radians(90)))"
   ]
  },
  {
   "cell_type": "code",
   "execution_count": 8,
   "id": "20b67877",
   "metadata": {},
   "outputs": [
    {
     "name": "stdout",
     "output_type": "stream",
     "text": [
      "2025-07-03 11:57:04.046470\n"
     ]
    }
   ],
   "source": [
    "## Assignment 2\n",
    "import datetime as dt\n",
    "\n",
    "print(dt.datetime.now())"
   ]
  },
  {
   "cell_type": "code",
   "execution_count": 9,
   "id": "0af987fc",
   "metadata": {},
   "outputs": [
    {
     "name": "stdout",
     "output_type": "stream",
     "text": [
      "73\n"
     ]
    }
   ],
   "source": [
    "## Assignment 3\n",
    "from random import randint\n",
    "\n",
    "print(randint(1, 100))"
   ]
  },
  {
   "cell_type": "code",
   "execution_count": 10,
   "id": "8af3c423",
   "metadata": {},
   "outputs": [
    {
     "name": "stdout",
     "output_type": "stream",
     "text": [
      "4.0\n",
      "8.0\n"
     ]
    }
   ],
   "source": [
    "## Assignment 4\n",
    "from math import sqrt, pow\n",
    "\n",
    "print(sqrt(16))\n",
    "print(pow(2, 3))"
   ]
  },
  {
   "cell_type": "code",
   "execution_count": 11,
   "id": "1edbb810",
   "metadata": {},
   "outputs": [
    {
     "name": "stdout",
     "output_type": "stream",
     "text": [
      "Error importing module: No module named 'non_existing_module'\n"
     ]
    }
   ],
   "source": [
    "## Assignment 5\n",
    "try:\n",
    "    import non_existing_module\n",
    "except ImportError as e:\n",
    "    print(f\"Error importing module: {e}\")"
   ]
  },
  {
   "cell_type": "code",
   "execution_count": 12,
   "id": "d9feb76c",
   "metadata": {},
   "outputs": [
    {
     "name": "stdout",
     "output_type": "stream",
     "text": [
      "['destionation.txt', 'example.csv', 'main.ipynb', 'new_directory', 'package', 'packagesquestion.ipynb', 'packagessolution.ipynb', 'source.txt']\n",
      "['destionation.txt', 'example.csv', 'main.ipynb', 'package', 'packagesquestion.ipynb', 'packagessolution.ipynb', 'source.txt']\n"
     ]
    }
   ],
   "source": [
    "## Assignment 6\n",
    "import os\n",
    "\n",
    "os.mkdir(\"new_directory\")\n",
    "print(os.listdir(\".\"))\n",
    "\n",
    "os.rmdir(\"new_directory\")\n",
    "print(os.listdir(\".\"))"
   ]
  },
  {
   "cell_type": "code",
   "execution_count": 14,
   "id": "7342919b",
   "metadata": {},
   "outputs": [
    {
     "name": "stdout",
     "output_type": "stream",
     "text": [
      "3.12.0 | packaged by Anaconda, Inc. | (main, Oct  2 2023, 17:20:38) [MSC v.1916 64 bit (AMD64)]\n",
      "sys.version_info(major=3, minor=12, micro=0, releaselevel='final', serial=0)\n",
      "['d:\\\\ML Bootcamp\\\\venv\\\\Lib\\\\site-packages\\\\ipykernel_launcher.py', '--f=c:\\\\Users\\\\LENOVO\\\\AppData\\\\Roaming\\\\jupyter\\\\runtime\\\\kernel-v37426aebe65445ad8f01f78ee7bdb3cc2b88011a8.json']\n"
     ]
    }
   ],
   "source": [
    "## Assignment 7\n",
    "import sys\n",
    "\n",
    "print(sys.version)\n",
    "print(sys.version_info)\n",
    "print(sys.argv)"
   ]
  },
  {
   "cell_type": "code",
   "execution_count": 15,
   "id": "1a7632ad",
   "metadata": {},
   "outputs": [
    {
     "name": "stdout",
     "output_type": "stream",
     "text": [
      "6\n",
      "120\n"
     ]
    }
   ],
   "source": [
    "## Assignment 8\n",
    "import math\n",
    "\n",
    "print(math.gcd(6, 12))\n",
    "print(math.factorial(5))"
   ]
  },
  {
   "cell_type": "code",
   "execution_count": 20,
   "id": "fc197028",
   "metadata": {},
   "outputs": [
    {
     "name": "stdout",
     "output_type": "stream",
     "text": [
      "2025-07-03\n",
      "2025-10-11\n",
      "Friday\n"
     ]
    }
   ],
   "source": [
    "## Assignment 9\n",
    "import datetime\n",
    "\n",
    "today = datetime.date.today()\n",
    "print(today)\n",
    "\n",
    "future_day = today + datetime.timedelta(days=100)\n",
    "print(future_day)\n",
    "\n",
    "given_date = datetime.date(2025, 7, 4)\n",
    "print(given_date.strftime(\"%A\"))"
   ]
  },
  {
   "cell_type": "code",
   "execution_count": 22,
   "id": "85c3a6fa",
   "metadata": {},
   "outputs": [
    {
     "name": "stdout",
     "output_type": "stream",
     "text": [
      "[7, 24, 39, 28, 23]\n",
      "[2, 1, 5, 3, 4]\n"
     ]
    }
   ],
   "source": [
    "## Assignment 10\n",
    "import random\n",
    "\n",
    "random_numbers = [random.randint(1, 50) for _ in range(5)]\n",
    "print(random_numbers)\n",
    "\n",
    "lst = [1, 2, 3, 4, 5]\n",
    "random.shuffle(lst)\n",
    "print(lst)"
   ]
  },
  {
   "cell_type": "code",
   "execution_count": 23,
   "id": "3729c133",
   "metadata": {},
   "outputs": [
    {
     "name": "stdout",
     "output_type": "stream",
     "text": [
      "5\n",
      "6\n"
     ]
    }
   ],
   "source": [
    "## Assignment 11\n",
    "from mypackage import module1, module2\n",
    "\n",
    "print(module1.addition(2, 3))\n",
    "print(module2.multiply(2, 3))"
   ]
  },
  {
   "cell_type": "code",
   "execution_count": null,
   "id": "cddde7b6",
   "metadata": {},
   "outputs": [],
   "source": [
    "## Assignment 12\n",
    "# from mypackage import addition, multiply\n",
    "\n",
    "# print(addition(3, 4))\n",
    "# print(multiply(3, 4))\n",
    "\n",
    "## jawaban di main.py"
   ]
  },
  {
   "cell_type": "code",
   "execution_count": null,
   "id": "b380ad45",
   "metadata": {},
   "outputs": [],
   "source": [
    "## Assignment 13\n",
    "\n",
    "## di main.py"
   ]
  },
  {
   "cell_type": "code",
   "execution_count": null,
   "id": "cc79186f",
   "metadata": {},
   "outputs": [],
   "source": [
    "## Assignment 14\n",
    "\n",
    "## di main.py"
   ]
  },
  {
   "cell_type": "code",
   "execution_count": 32,
   "id": "c336610a",
   "metadata": {},
   "outputs": [
    {
     "name": "stdout",
     "output_type": "stream",
     "text": [
      "Import error: cannot import name 'non_existing_module' from 'mypackage' (d:\\ML Bootcamp\\5 - modules and packages\\mypackage\\__init__.py)\n"
     ]
    }
   ],
   "source": [
    "## Assignment 15\n",
    "try:\n",
    "    from mypackage import non_existing_module\n",
    "except ImportError as e:\n",
    "    print(f\"Import error: {e}\")\n"
   ]
  }
 ],
 "metadata": {
  "kernelspec": {
   "display_name": "Python 3",
   "language": "python",
   "name": "python3"
  },
  "language_info": {
   "codemirror_mode": {
    "name": "ipython",
    "version": 3
   },
   "file_extension": ".py",
   "mimetype": "text/x-python",
   "name": "python",
   "nbconvert_exporter": "python",
   "pygments_lexer": "ipython3",
   "version": "3.12.0"
  }
 },
 "nbformat": 4,
 "nbformat_minor": 5
}
