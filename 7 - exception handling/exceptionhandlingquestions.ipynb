{
 "cells": [
  {
   "cell_type": "markdown",
   "metadata": {},
   "source": [
    "# Module: Exception Handling Assignments\n",
    "## Lesson: Exception Handling with try, except, and finally\n",
    "### Assignment 1: Handling Division by Zero\n",
    "\n",
    "Write a function that takes two integers as input and returns their division. Use try, except, and finally blocks to handle division by zero and print an appropriate message.\n",
    "\n",
    "### Assignment 2: File Reading with Exception Handling\n",
    "\n",
    "Write a function that reads the contents of a file named `data.txt`. Use try, except, and finally blocks to handle file not found errors and ensure the file is properly closed.\n",
    "\n",
    "### Assignment 3: Handling Multiple Exceptions\n",
    "\n",
    "Write a function that takes a list of integers and returns their sum. Use try, except, and finally blocks to handle TypeError if a non-integer value is encountered and print an appropriate message.\n",
    "\n",
    "### Assignment 4: Exception Handling in User Input\n",
    "\n",
    "Write a function that prompts the user to enter an integer. Use try, except, and finally blocks to handle ValueError if the user enters a non-integer value and print an appropriate message.\n",
    "\n",
    "### Assignment 5: Exception Handling in Dictionary Access\n",
    "\n",
    "Write a function that takes a dictionary and a key as input and returns the value associated with the key. Use try, except, and finally blocks to handle KeyError if the key is not found in the dictionary and print an appropriate message.\n",
    "\n",
    "### Assignment 6: Nested Exception Handling\n",
    "\n",
    "Write a function that performs nested exception handling. It should first attempt to convert a string to an integer, and then attempt to divide by that integer. Use nested try, except, and finally blocks to handle ValueError and ZeroDivisionError and print appropriate messages.\n",
    "\n",
    "### Assignment 7: Exception Handling in List Operations\n",
    "\n",
    "Write a function that takes a list and an index as input and returns the element at the given index. Use try, except, and finally blocks to handle IndexError if the index is out of range and print an appropriate message.\n",
    "\n",
    "### Assignment 8: Exception Handling in Network Operations\n",
    "\n",
    "Write a function that attempts to open a URL and read its contents. Use try, except, and finally blocks to handle network-related errors and print an appropriate message.\n",
    "\n",
    "### Assignment 9: Exception Handling in JSON Parsing\n",
    "\n",
    "Write a function that attempts to parse a JSON string. Use try, except, and finally blocks to handle JSONDecodeError if the string is not a valid JSON and print an appropriate message.\n",
    "\n",
    "### Assignment 10: Custom Exception Handling\n",
    "\n",
    "Define a custom exception named `NegativeNumberError`. Write a function that raises this exception if a negative number is encountered in a list. Use try, except, and finally blocks to handle the custom exception and print an appropriate message.\n",
    "\n",
    "### Assignment 11: Exception Handling in Function Calls\n",
    "\n",
    "Write a function that calls another function which may raise an exception. Use try, except, and finally blocks to handle the exception and print an appropriate message.\n",
    "\n",
    "### Assignment 12: Exception Handling in Class Methods\n",
    "\n",
    "Define a class with a method that performs a division operation. Use try, except, and finally blocks within the method to handle division by zero and print an appropriate message.\n",
    "\n",
    "### Assignment 13: Exception Handling in Data Conversion\n",
    "\n",
    "Write a function that takes a list of strings and converts them to integers. Use try, except, and finally blocks to handle ValueError if a string cannot be converted and print an appropriate message.\n",
    "\n",
    "### Assignment 14: Exception Handling in List Comprehensions\n",
    "\n",
    "Write a function that uses a list comprehension to convert a list of strings to integers. Use try, except, and finally blocks within the list comprehension to handle ValueError and print an appropriate message.\n",
    "\n",
    "### Assignment 15: Exception Handling in File Writing\n",
    "\n",
    "Write a function that attempts to write a list of strings to a file. Use try, except, and finally blocks to handle IOError and ensure the file is properly closed."
   ]
  },
  {
   "cell_type": "code",
   "execution_count": 1,
   "metadata": {},
   "outputs": [
    {
     "name": "stdout",
     "output_type": "stream",
     "text": [
      "Execution complete.\n",
      "2.0\n",
      "Error: division by zero\n",
      "Execution complete.\n",
      "None\n"
     ]
    }
   ],
   "source": [
    "## Assignment 1\n",
    "def divide(a, b):\n",
    "    try:\n",
    "        result = a / b\n",
    "    except ZeroDivisionError as e:\n",
    "        print(f\"Error: {e}\")\n",
    "        result = None\n",
    "    finally:\n",
    "        print(\"Execution complete.\")\n",
    "        return result\n",
    "\n",
    "print(divide(4, 2))\n",
    "print(divide(4, 0))"
   ]
  },
  {
   "cell_type": "code",
   "execution_count": 4,
   "id": "12e1d987",
   "metadata": {},
   "outputs": [
    {
     "name": "stdout",
     "output_type": "stream",
     "text": [
      "Error: [Errno 2] No such file or directory: 'data.txt'\n"
     ]
    }
   ],
   "source": [
    "## Assignment 2\n",
    "def read_file(filename):\n",
    "    try:\n",
    "        file = open(filename, \"r\")\n",
    "        content = file.read()\n",
    "        return content\n",
    "    except FileNotFoundError as e:\n",
    "        print(f\"Error: {e}\")\n",
    "    finally:\n",
    "        # if \"file\" in locals() and not file.closed:\n",
    "        #     file.close()\n",
    "        try:\n",
    "            file.close()\n",
    "        except NameError:\n",
    "            pass\n",
    "\n",
    "read_file(\"data.txt\")"
   ]
  },
  {
   "cell_type": "code",
   "execution_count": 9,
   "id": "d25fb305",
   "metadata": {},
   "outputs": [
    {
     "name": "stdout",
     "output_type": "stream",
     "text": [
      "15\n",
      "Error: unsupported operand type(s) for +: 'int' and 'str'\n",
      "None\n"
     ]
    }
   ],
   "source": [
    "## Assignment 3\n",
    "def sum_of_numbers(lst):\n",
    "    try:\n",
    "        result = sum(lst)\n",
    "    except TypeError as e:\n",
    "        print(f\"Error: {e}\")\n",
    "        result = None\n",
    "    finally:\n",
    "        return result\n",
    "\n",
    "print(sum_of_numbers([1, 2, 3, 4, 5]))\n",
    "print(sum_of_numbers([1, 2, 3, 4, \"a\"]))"
   ]
  },
  {
   "cell_type": "code",
   "execution_count": 13,
   "id": "ce9e6b7b",
   "metadata": {},
   "outputs": [
    {
     "name": "stdout",
     "output_type": "stream",
     "text": [
      "invalid literal for int() with base 10: 'andre'\n",
      "None\n"
     ]
    }
   ],
   "source": [
    "## Assignment 4\n",
    "def handle_user_input():\n",
    "    try:\n",
    "        number = int(input(\"Enter a number\"))\n",
    "    except ValueError as e:\n",
    "        print(e)\n",
    "        number = None\n",
    "    finally:\n",
    "        return number\n",
    "\n",
    "print(handle_user_input())"
   ]
  },
  {
   "cell_type": "code",
   "execution_count": 15,
   "id": "0a148f52",
   "metadata": {},
   "outputs": [
    {
     "name": "stdout",
     "output_type": "stream",
     "text": [
      "Andre\n",
      "Error: 'address'\n",
      "None\n"
     ]
    }
   ],
   "source": [
    "## Assignment 5\n",
    "def get_dict_value(dict, key):\n",
    "    try:\n",
    "        val = dict[key]\n",
    "    except KeyError as e:\n",
    "        print(f\"Error: {e}\")\n",
    "        val = None\n",
    "    finally:\n",
    "        return val\n",
    "\n",
    "dict = {\n",
    "    \"name\": \"Andre\",\n",
    "    \"age\": 19,\n",
    "}\n",
    "\n",
    "print(get_dict_value(dict, \"name\"))\n",
    "print(get_dict_value(dict, \"address\"))"
   ]
  },
  {
   "cell_type": "code",
   "execution_count": 18,
   "id": "4ccf343e",
   "metadata": {},
   "outputs": [
    {
     "name": "stdout",
     "output_type": "stream",
     "text": [
      "Execution Complete\n",
      "5.0\n",
      "Error: invalid literal for int() with base 10: 'andre'\n",
      "Execution Complete\n",
      "None\n",
      "Error: division by zero\n",
      "Execution Complete\n",
      "None\n"
     ]
    }
   ],
   "source": [
    "## Assignment 6\n",
    "def divide():\n",
    "    try:\n",
    "        divident = int(input(\"Enter divident\"))\n",
    "        divisor = int(input(\"Enter divisor\"))\n",
    "        result = divident / divisor\n",
    "    except ValueError as e:\n",
    "        print(f\"Error: {e}\")\n",
    "        result = None\n",
    "    except ZeroDivisionError as e:\n",
    "        print(f\"Error: {e}\")\n",
    "        result = None\n",
    "    finally:\n",
    "        print(\"Execution Complete\")\n",
    "    return result\n",
    "\n",
    "print(divide())\n",
    "print(divide())\n",
    "print(divide())"
   ]
  },
  {
   "cell_type": "code",
   "execution_count": 19,
   "id": "1d60a165",
   "metadata": {},
   "outputs": [
    {
     "name": "stdout",
     "output_type": "stream",
     "text": [
      "Execution complete\n",
      "1\n",
      "Error: list index out of range\n",
      "Execution complete\n",
      "None\n"
     ]
    }
   ],
   "source": [
    "## Assignment 7\n",
    "def find_value_by_index(lst, index):\n",
    "    try:\n",
    "        result = lst[index]\n",
    "    except IndexError as e:\n",
    "        print(f\"Error: {e}\")\n",
    "        result = None\n",
    "    finally:\n",
    "        print(\"Execution complete\")\n",
    "    return result\n",
    "\n",
    "lst = [1, 2, 3]\n",
    "\n",
    "print(find_value_by_index(lst, 0))\n",
    "print(find_value_by_index(lst, 3))"
   ]
  },
  {
   "cell_type": "code",
   "execution_count": 22,
   "id": "39922b7c",
   "metadata": {},
   "outputs": [
    {
     "name": "stdout",
     "output_type": "stream",
     "text": [
      "Execution complete\n",
      "{\n",
      "  \"userId\": 1,\n",
      "  \"id\": 1,\n",
      "  \"title\": \"sunt aut facere repellat provident occaecati excepturi optio reprehenderit\",\n",
      "  \"body\": \"quia et suscipit\\nsuscipit recusandae consequuntur expedita et cum\\nreprehenderit molestiae ut ut quas totam\\nnostrum rerum est autem sunt rem eveniet architecto\"\n",
      "}\n",
      "Error: HTTPSConnectionPool(host='nonexistent.url', port=443): Max retries exceeded with url: / (Caused by NameResolutionError(\"<urllib3.connection.HTTPSConnection object at 0x0000024C71F01310>: Failed to resolve 'nonexistent.url' ([Errno 11001] getaddrinfo failed)\"))\n",
      "Execution complete\n",
      "None\n"
     ]
    }
   ],
   "source": [
    "## Assignment 8\n",
    "import requests\n",
    "\n",
    "def read_url(url):\n",
    "    try:\n",
    "        response = requests.get(url)\n",
    "        response.raise_for_status()\n",
    "        return response.text\n",
    "    except requests.RequestException as e:\n",
    "        print(f\"Error: {e}\")\n",
    "        return None\n",
    "    finally:\n",
    "        print(\"Execution complete\")\n",
    "\n",
    "print(read_url('https://jsonplaceholder.typicode.com/posts/1'))\n",
    "print(read_url('https://nonexistent.url'))"
   ]
  },
  {
   "cell_type": "code",
   "execution_count": 23,
   "id": "d47854f6",
   "metadata": {},
   "outputs": [
    {
     "name": "stdout",
     "output_type": "stream",
     "text": [
      "Execution complete\n",
      "{'name': 'John', 'age': 30}\n",
      "Error: Expecting value: line 1 column 1 (char 0)\n",
      "Execution complete\n",
      "None\n"
     ]
    }
   ],
   "source": [
    "## Assignment 9\n",
    "import json\n",
    "\n",
    "def parse_json(json_data):\n",
    "    try:\n",
    "        data = json.loads(json_data)\n",
    "    except json.JSONDecodeError as e:\n",
    "        print(f\"Error: {e}\")\n",
    "        data = None\n",
    "    finally:\n",
    "        print(\"Execution complete\")\n",
    "    return data\n",
    "\n",
    "print(parse_json('{\"name\": \"John\", \"age\": 30}'))  # {'name': 'John', 'age': 30}\n",
    "print(parse_json('Invalid JSON'))  # None"
   ]
  },
  {
   "cell_type": "code",
   "execution_count": 24,
   "id": "1550e581",
   "metadata": {},
   "outputs": [
    {
     "name": "stdout",
     "output_type": "stream",
     "text": [
      "Error: Negative number found: -2\n",
      "Execution complete.\n",
      "Execution complete.\n"
     ]
    }
   ],
   "source": [
    "## Assignment 10\n",
    "class NegativeNumberError(Exception):\n",
    "    pass\n",
    "\n",
    "def check_for_negatives(lst):\n",
    "    try:\n",
    "        for num in lst:\n",
    "            if num < 0:\n",
    "                raise NegativeNumberError(f\"Negative number found: {num}\")\n",
    "    except NegativeNumberError as e:\n",
    "        print(f\"Error: {e}\")\n",
    "    finally:\n",
    "        print(\"Execution complete.\")\n",
    "\n",
    "check_for_negatives([1, -2, 3, 4])  # Error: Negative number found: -2\n",
    "check_for_negatives([1, 2, 3, 4])  # Execution complete."
   ]
  },
  {
   "cell_type": "code",
   "execution_count": 25,
   "id": "a8be2e93",
   "metadata": {},
   "outputs": [
    {
     "name": "stdout",
     "output_type": "stream",
     "text": [
      "Error: An error occurred in risky_function.\n",
      "Execution complete.\n"
     ]
    }
   ],
   "source": [
    "## Assignment 11\n",
    "def risky_function():\n",
    "    raise ValueError(\"An error occurred in risky_function.\")\n",
    "\n",
    "def safe_function():\n",
    "    try:\n",
    "        risky_function()\n",
    "    except ValueError as e:\n",
    "        print(f\"Error: {e}\")\n",
    "    finally:\n",
    "        print(\"Execution complete.\")\n",
    "\n",
    "safe_function()  # Error: An error occurred in risky_function."
   ]
  },
  {
   "cell_type": "code",
   "execution_count": 29,
   "id": "ff43c5b7",
   "metadata": {},
   "outputs": [
    {
     "name": "stdout",
     "output_type": "stream",
     "text": [
      "Execution complete.\n",
      "5.0\n",
      "Error: division by zero\n",
      "Execution complete.\n",
      "None\n"
     ]
    }
   ],
   "source": [
    "## Assignment 12\n",
    "class Calculator:\n",
    "    def divide(self, a, b):\n",
    "        try:\n",
    "            result = a / b\n",
    "        except ZeroDivisionError as e:\n",
    "            print(f\"Error: {e}\")\n",
    "            result = None\n",
    "        finally:\n",
    "            print(\"Execution complete.\")\n",
    "        return result\n",
    "\n",
    "calc = Calculator()\n",
    "print(calc.divide(10, 2))  # 5.0\n",
    "print(calc.divide(10, 0))  # None"
   ]
  },
  {
   "cell_type": "code",
   "execution_count": 30,
   "id": "94dc25e9",
   "metadata": {},
   "outputs": [
    {
     "name": "stdout",
     "output_type": "stream",
     "text": [
      "Execution complete\n",
      "[1, 2, 3]\n",
      "Error: invalid literal for int() with base 10: 'a'\n",
      "Execution complete\n",
      "None\n"
     ]
    }
   ],
   "source": [
    "## Assignment 13\n",
    "def convert_str_to_int(lst_of_str):\n",
    "    try:\n",
    "        return list(map(int, lst_of_str))\n",
    "    except ValueError as e:\n",
    "        print(f\"Error: {e}\")\n",
    "        return None\n",
    "    finally:\n",
    "        print(\"Execution complete\")\n",
    "\n",
    "lst_of_string_1 = [\"1\", \"2\", \"3\"]\n",
    "lst_of_string_2 = [\"1\", \"a\", \"2\"]\n",
    "\n",
    "print(convert_str_to_int(lst_of_string_1))\n",
    "print(convert_str_to_int(lst_of_string_2))"
   ]
  },
  {
   "cell_type": "code",
   "execution_count": 31,
   "id": "b998de2a",
   "metadata": {},
   "outputs": [
    {
     "name": "stdout",
     "output_type": "stream",
     "text": [
      "Execution complete\n",
      "[1, 2, 3]\n",
      "Error: invalid literal for int() with base 10: 'a'\n",
      "Execution complete\n",
      "None\n"
     ]
    }
   ],
   "source": [
    "## Assignment 14\n",
    "def convert_str_to_int(lst_of_str):\n",
    "    try:\n",
    "        return [int(val) for val in lst_of_str]\n",
    "    except ValueError as e:\n",
    "        print(f\"Error: {e}\")\n",
    "        return None\n",
    "    finally:\n",
    "        print(\"Execution complete\")\n",
    "\n",
    "lst_of_string_1 = [\"1\", \"2\", \"3\"]\n",
    "lst_of_string_2 = [\"1\", \"a\", \"2\"]\n",
    "\n",
    "print(convert_str_to_int(lst_of_string_1))\n",
    "print(convert_str_to_int(lst_of_string_2))"
   ]
  },
  {
   "cell_type": "code",
   "execution_count": 32,
   "id": "f3e3edf0",
   "metadata": {},
   "outputs": [],
   "source": [
    "## Assignment 15\n",
    "def write_strings_to_file(strings, filename):\n",
    "    try:\n",
    "        file = open(filename, \"w\")\n",
    "        for string in strings:\n",
    "            file.write(string + \"\\n\")\n",
    "    except IOError as e:\n",
    "        print(f\"Error: {e}\")\n",
    "    finally:\n",
    "        try:\n",
    "            file.close()\n",
    "        except NameError:\n",
    "            pass\n",
    "\n",
    "write_strings_to_file(['Hello', 'World'], 'output.txt')"
   ]
  }
 ],
 "metadata": {
  "kernelspec": {
   "display_name": "Python 3",
   "language": "python",
   "name": "python3"
  },
  "language_info": {
   "codemirror_mode": {
    "name": "ipython",
    "version": 3
   },
   "file_extension": ".py",
   "mimetype": "text/x-python",
   "name": "python",
   "nbconvert_exporter": "python",
   "pygments_lexer": "ipython3",
   "version": "3.12.0"
  }
 },
 "nbformat": 4,
 "nbformat_minor": 5
}
