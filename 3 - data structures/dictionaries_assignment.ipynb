{
 "cells": [
  {
   "cell_type": "markdown",
   "metadata": {},
   "source": [
    "# Module 3: Data Structures Assignments\n",
    "## Lesson 3.4: Dictionaries\n",
    "### Assignment 1: Creating and Accessing Dictionaries\n",
    "\n",
    "Create a dictionary with the first 10 positive integers as keys and their squares as values. Print the dictionary.\n",
    "\n",
    "### Assignment 2: Accessing Dictionary Elements\n",
    "\n",
    "Print the value of the key 5 and the keys of the dictionary created in Assignment 1.\n",
    "\n",
    "### Assignment 3: Dictionary Methods\n",
    "\n",
    "Add a new key-value pair (11, 121) to the dictionary created in Assignment 1 and then remove the key-value pair with key 1. Print the modified dictionary.\n",
    "\n",
    "### Assignment 4: Iterating Over Dictionaries\n",
    "\n",
    "Iterate over the dictionary created in Assignment 1 and print each key-value pair.\n",
    "\n",
    "### Assignment 5: Dictionary Comprehensions\n",
    "\n",
    "Create a new dictionary containing the cubes of the first 10 positive integers using a dictionary comprehension. Print the new dictionary.\n",
    "\n",
    "### Assignment 6: Merging Dictionaries\n",
    "\n",
    "Create two dictionaries: one with keys as the first 5 positive integers and values as their squares, and another with keys as the next 5 positive integers and values as their squares. Merge these dictionaries into a single dictionary and print it.\n",
    "\n",
    "### Assignment 7: Nested Dictionaries\n",
    "\n",
    "Create a nested dictionary representing a student with keys 'name', 'age', 'grades', where 'grades' is another dictionary with keys 'math', 'science', and 'english'. Print the nested dictionary.\n",
    "\n",
    "### Assignment 8: Dictionary of Lists\n",
    "\n",
    "Create a dictionary where the keys are the first 5 positive integers and the values are lists containing the first 5 multiples of the key. Print the dictionary.\n",
    "\n",
    "### Assignment 9: Dictionary of Tuples\n",
    "\n",
    "Create a dictionary where the keys are the first 5 positive integers and the values are tuples containing the key and its square. Print the dictionary.\n",
    "\n",
    "### Assignment 10: Dictionary and List Conversion\n",
    "\n",
    "Create a dictionary with the first 5 positive integers as keys and their squares as values. Convert the dictionary to a list of tuples and print it.\n",
    "\n",
    "### Assignment 11: Dictionary Filtering\n",
    "\n",
    "Create a dictionary with the first 10 positive integers as keys and their squares as values. Create a new dictionary containing only the key-value pairs where the key is even. Print the new dictionary.\n",
    "\n",
    "### Assignment 12: Dictionary Key and Value Transformation\n",
    "\n",
    "Create a dictionary with the first 5 positive integers as keys and their squares as values. Create a new dictionary with keys and values swapped. Print the new dictionary.\n",
    "\n",
    "### Assignment 13: Default Dictionary\n",
    "\n",
    "Create a default dictionary where each key has a default value of an empty list. Add some elements to the lists and print the dictionary.\n",
    "\n",
    "### Assignment 14: Counting with Dictionaries\n",
    "\n",
    "Write a function that takes a string and returns a dictionary with the count of each character in the string. Print the dictionary.\n",
    "\n",
    "### Assignment 15: Dictionary and JSON\n",
    "\n",
    "Create a dictionary representing a book with keys 'title', 'author', 'year', and 'genre'. Convert the dictionary to a JSON string and print it."
   ]
  },
  {
   "cell_type": "code",
   "execution_count": 70,
   "id": "830ecfad",
   "metadata": {},
   "outputs": [
    {
     "name": "stdout",
     "output_type": "stream",
     "text": [
      "{1: 1, 2: 4, 3: 9, 4: 16, 5: 25, 6: 36, 7: 49, 8: 64, 9: 81, 10: 100}\n"
     ]
    }
   ],
   "source": [
    "## Assignment 1\n",
    "dict = {x:x**2 for x in range(1, 11)}\n",
    "\n",
    "print(dict)"
   ]
  },
  {
   "cell_type": "code",
   "execution_count": 71,
   "id": "2dd82870",
   "metadata": {},
   "outputs": [
    {
     "name": "stdout",
     "output_type": "stream",
     "text": [
      "25\n",
      "[1, 2, 3, 4, 5, 6, 7, 8, 9, 10]\n"
     ]
    }
   ],
   "source": [
    "## Assignment 2\n",
    "print(dict[5])\n",
    "print(list(dict.keys()))"
   ]
  },
  {
   "cell_type": "code",
   "execution_count": 72,
   "id": "b2e8ce8c",
   "metadata": {},
   "outputs": [
    {
     "name": "stdout",
     "output_type": "stream",
     "text": [
      "{2: 4, 3: 9, 4: 16, 5: 25, 6: 36, 7: 49, 8: 64, 9: 81, 10: 100, 11: 121}\n"
     ]
    }
   ],
   "source": [
    "## Assignment 3\n",
    "dict[11] = 121\n",
    "\n",
    "# dict.pop(1)\n",
    "del dict[1]\n",
    "\n",
    "print(dict)"
   ]
  },
  {
   "cell_type": "code",
   "execution_count": 73,
   "id": "4a1169af",
   "metadata": {},
   "outputs": [
    {
     "name": "stdout",
     "output_type": "stream",
     "text": [
      "2: 4\n",
      "3: 9\n",
      "4: 16\n",
      "5: 25\n",
      "6: 36\n",
      "7: 49\n",
      "8: 64\n",
      "9: 81\n",
      "10: 100\n",
      "11: 121\n"
     ]
    }
   ],
   "source": [
    "## Assignment 4\n",
    "for key, value in dict.items():\n",
    "    print(f\"{key}: {value}\")"
   ]
  },
  {
   "cell_type": "code",
   "execution_count": 74,
   "id": "12efde24",
   "metadata": {},
   "outputs": [
    {
     "name": "stdout",
     "output_type": "stream",
     "text": [
      "{1: 1, 2: 8, 3: 27, 4: 64, 5: 125, 6: 216, 7: 343, 8: 512, 9: 729, 10: 1000}\n"
     ]
    }
   ],
   "source": [
    "## Assignment 5\n",
    "cubes = {x:x**3 for x in range(1, 11)}\n",
    "\n",
    "print(cubes)"
   ]
  },
  {
   "cell_type": "code",
   "execution_count": 75,
   "id": "fb5e95ac",
   "metadata": {},
   "outputs": [
    {
     "name": "stdout",
     "output_type": "stream",
     "text": [
      "{1: 1, 2: 4, 3: 9, 4: 16, 5: 25, 6: 36, 7: 49, 8: 64, 9: 81, 10: 100}\n"
     ]
    }
   ],
   "source": [
    "## Assignment 6\n",
    "dict1 = {x:x**2 for x in range(1, 6)}\n",
    "dict2 = {x:x**2 for x in range(6, 11)}\n",
    "\n",
    "# merged_dict = {**dict1, **dict2}\n",
    "# print(merged_dict)\n",
    "\n",
    "dict1.update(dict2)\n",
    "print(dict1)"
   ]
  },
  {
   "cell_type": "code",
   "execution_count": 76,
   "id": "f5196bc5",
   "metadata": {},
   "outputs": [
    {
     "name": "stdout",
     "output_type": "stream",
     "text": [
      "{'name': 'Andre', 'age': 19, 'grades': {'math': 'A', 'science': 'A', 'english': 'A'}}\n"
     ]
    }
   ],
   "source": [
    "## Assignment 7\n",
    "student = {\n",
    "    \"name\": \"Andre\",\n",
    "    \"age\": 19,\n",
    "    \"grades\": {\n",
    "        \"math\": \"A\",\n",
    "        \"science\": \"A\",\n",
    "        \"english\": \"A\"\n",
    "    }\n",
    "}\n",
    "\n",
    "print(student)"
   ]
  },
  {
   "cell_type": "code",
   "execution_count": 77,
   "id": "589180e1",
   "metadata": {},
   "outputs": [
    {
     "name": "stdout",
     "output_type": "stream",
     "text": [
      "{1: [1, 2, 3, 4, 5], 2: [2, 4, 6, 8, 10], 3: [3, 6, 9, 12, 15], 4: [4, 8, 12, 16, 20], 5: [5, 10, 15, 20, 25]}\n"
     ]
    }
   ],
   "source": [
    "## Assignment 8\n",
    "dict = {i:[i * j for j in range(1, 6)] for i in range(1, 6)}\n",
    "\n",
    "print(dict)"
   ]
  },
  {
   "cell_type": "code",
   "execution_count": 78,
   "id": "a2f5667c",
   "metadata": {},
   "outputs": [
    {
     "name": "stdout",
     "output_type": "stream",
     "text": [
      "{1: (1, 1), 2: (2, 4), 3: (3, 9), 4: (4, 16), 5: (5, 25)}\n"
     ]
    }
   ],
   "source": [
    "## Assignment 9\n",
    "dict_of_tpl = {i:(i, i**2) for i in range(1, 6)}\n",
    "\n",
    "print(dict_of_tpl)"
   ]
  },
  {
   "cell_type": "code",
   "execution_count": 79,
   "id": "f6d18887",
   "metadata": {},
   "outputs": [
    {
     "name": "stdout",
     "output_type": "stream",
     "text": [
      "[(1, 1), (2, 4), (3, 9), (4, 16), (5, 25)]\n"
     ]
    }
   ],
   "source": [
    "## Assignment 10\n",
    "dict = {x:x**2 for x in range(1, 6)}\n",
    "\n",
    "lst_of_tpl = []\n",
    "for key, value in dict.items():\n",
    "    lst_of_tpl.append((key, value))\n",
    "\n",
    "print(lst_of_tpl)"
   ]
  },
  {
   "cell_type": "code",
   "execution_count": 80,
   "id": "3a679fe2",
   "metadata": {},
   "outputs": [
    {
     "name": "stdout",
     "output_type": "stream",
     "text": [
      "{2: 4, 4: 16, 6: 36, 8: 64, 10: 100}\n"
     ]
    }
   ],
   "source": [
    "## Assignment 11\n",
    "dict = {x:x**2 for x in range(1, 11)}\n",
    "new_dict = {key:value for key, value in dict.items() if key % 2 == 0}\n",
    "\n",
    "print(new_dict)"
   ]
  },
  {
   "cell_type": "code",
   "execution_count": 81,
   "id": "f35008c0",
   "metadata": {},
   "outputs": [
    {
     "name": "stdout",
     "output_type": "stream",
     "text": [
      "{1: 1, 4: 2, 9: 3, 16: 4, 25: 5}\n"
     ]
    }
   ],
   "source": [
    "## Assignment 12\n",
    "dict = {x:x**2 for x in range(1, 6)}\n",
    "new_dict = {value:key for key, value in dict.items()}\n",
    "\n",
    "print(new_dict)"
   ]
  },
  {
   "cell_type": "code",
   "execution_count": 82,
   "id": "bef22a58",
   "metadata": {},
   "outputs": [
    {
     "name": "stdout",
     "output_type": "stream",
     "text": [
      "defaultdict(<class 'list'>, {'a': [1, 2], 'c': [3]})\n"
     ]
    }
   ],
   "source": [
    "## Assignment 13\n",
    "from collections import defaultdict\n",
    "\n",
    "default_dict = defaultdict(list)\n",
    "default_dict[\"a\"].append(1)\n",
    "default_dict[\"a\"].append(2)\n",
    "default_dict[\"c\"].append(3)\n",
    "\n",
    "print(default_dict)\n",
    "\n",
    "# default_dict = defaultdict(set)\n",
    "# default_dict[\"a\"].add(1)\n",
    "# default_dict[\"a\"].add(2)\n",
    "# default_dict[\"c\"].add(3)\n",
    "\n",
    "# print(default_dict)"
   ]
  },
  {
   "cell_type": "code",
   "execution_count": 83,
   "id": "d72dcbc7",
   "metadata": {},
   "outputs": [
    {
     "name": "stdout",
     "output_type": "stream",
     "text": [
      "{'m': 4, 'y': 3, 'n': 5, 'a': 3, 'e': 6, 'i': 4, 's': 3, 'd': 2, 'r': 4, ',': 1, 'c': 4, 'u': 3, 't': 3, 'l': 1, 'g': 1, 'o': 1, 'p': 1}\n"
     ]
    }
   ],
   "source": [
    "## Assignment 14\n",
    "text = \"my name is andre, i am currently studying computer science\"\n",
    "dict = {}\n",
    "\n",
    "## cara 1\n",
    "# for char in text:\n",
    "#     if char != \" \":\n",
    "#         if char in dict.keys():\n",
    "#             dict[char] += 1\n",
    "#         else:\n",
    "#             dict[char] = 1\n",
    "\n",
    "## cara 2\n",
    "for char in text:\n",
    "    if char != \" \":\n",
    "        dict[char] = dict.get(char, 0) + 1\n",
    "\n",
    "print(dict)"
   ]
  },
  {
   "cell_type": "code",
   "execution_count": 91,
   "metadata": {},
   "outputs": [
    {
     "name": "stdout",
     "output_type": "stream",
     "text": [
      "<class 'dict'>\n",
      "{\"title\": \"Introduction to Machine Learning\", \"author\": \"Andre\", \"year\": 2025, \"genre\": \"Science\"}\n",
      "<class 'str'>\n"
     ]
    }
   ],
   "source": [
    "## Assignment 15\n",
    "import json\n",
    "\n",
    "book = {\n",
    "    \"title\": \"Introduction to Machine Learning\",\n",
    "    \"author\": \"Andre\",\n",
    "    \"year\": 2025,\n",
    "    \"genre\": \"Science\"\n",
    "}\n",
    "\n",
    "print(type(book))\n",
    "\n",
    "json_string = json.dumps(book)\n",
    "\n",
    "print(json_string)\n",
    "print(type(json_string))"
   ]
  }
 ],
 "metadata": {
  "kernelspec": {
   "display_name": "Python 3",
   "language": "python",
   "name": "python3"
  },
  "language_info": {
   "codemirror_mode": {
    "name": "ipython",
    "version": 3
   },
   "file_extension": ".py",
   "mimetype": "text/x-python",
   "name": "python",
   "nbconvert_exporter": "python",
   "pygments_lexer": "ipython3",
   "version": "3.12.0"
  }
 },
 "nbformat": 4,
 "nbformat_minor": 5
}
